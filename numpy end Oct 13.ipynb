{
 "cells": [
  {
   "cell_type": "code",
   "execution_count": 3,
   "id": "642b7b59-846a-4e2e-ac8d-e6866ccbebbe",
   "metadata": {},
   "outputs": [
    {
     "name": "stdout",
     "output_type": "stream",
     "text": [
      "[[ True  True  True  True]\n",
      " [False False False False]]\n"
     ]
    }
   ],
   "source": [
    "import numpy as np\n",
    "a2d=np.array([[1,2,3,4],[5,6,7,8]])\n",
    "c=a2d<5\n",
    "print(c)"
   ]
  },
  {
   "cell_type": "code",
   "execution_count": 5,
   "id": "6630902a-d41d-4f69-b9d4-713b5a4fca00",
   "metadata": {},
   "outputs": [
    {
     "name": "stdout",
     "output_type": "stream",
     "text": [
      "[[ True  True  True  True]\n",
      " [ True False  True  True]]\n"
     ]
    }
   ],
   "source": [
    "d=a2d!=6\n",
    "print(d)"
   ]
  },
  {
   "cell_type": "code",
   "execution_count": 7,
   "id": "eda507ca-81cb-4482-b534-76a437a97621",
   "metadata": {},
   "outputs": [
    {
     "name": "stdout",
     "output_type": "stream",
     "text": [
      "[[False False False False]\n",
      " [ True False False False]]\n"
     ]
    }
   ],
   "source": [
    "e=a2d==5\n",
    "print(e)"
   ]
  },
  {
   "cell_type": "code",
   "execution_count": 10,
   "id": "8eb1fba0-fa08-4cb9-b781-eb9aa901c4c2",
   "metadata": {},
   "outputs": [
    {
     "name": "stdout",
     "output_type": "stream",
     "text": [
      "[ 6  8 10 12]\n",
      "[10 26]\n"
     ]
    }
   ],
   "source": [
    "row_sum=np.apply_along_axis(np.sum, axis=0,arr=a2d)\n",
    "print(row_sum)\n",
    "\n",
    "col_sum=np.apply_along_axis(np.sum, axis=1,arr=a2d)\n",
    "print(col_sum)"
   ]
  },
  {
   "cell_type": "code",
   "execution_count": 18,
   "id": "c17b5525-6dd4-46a6-b2aa-74c54deb1763",
   "metadata": {},
   "outputs": [
    {
     "name": "stdout",
     "output_type": "stream",
     "text": [
      "Marix created using reshape : \n",
      " [[10 11]\n",
      " [12 13]\n",
      " [14 15]]\n",
      "Reshaped : \n",
      " [[10 11 12]\n",
      " [13 14 15]]\n"
     ]
    }
   ],
   "source": [
    "f=np.arange(10,16).reshape([3,2])\n",
    "print(\"Marix created using reshape : \\n\",f)\n",
    "f.shape=(2,3)\n",
    "print(\"Reshaped : \\n\",f)"
   ]
  },
  {
   "cell_type": "code",
   "execution_count": 23,
   "id": "2172036b-8f2a-4a90-bbe0-ef0957bc2226",
   "metadata": {},
   "outputs": [
    {
     "name": "stdout",
     "output_type": "stream",
     "text": [
      "[10 11 12 13 14 15]\n",
      "Transpose : \n",
      " [[10 13]\n",
      " [11 14]\n",
      " [12 15]]\n"
     ]
    }
   ],
   "source": [
    "a2d_to_a1d=f.ravel()\n",
    "print(a2d_to_a1d)\n",
    "\n",
    "print(\"Transpose : \\n\", f.transpose())"
   ]
  },
  {
   "cell_type": "code",
   "execution_count": 35,
   "id": "d20674a8-8e18-4f62-873f-965124b52406",
   "metadata": {},
   "outputs": [
    {
     "name": "stdout",
     "output_type": "stream",
     "text": [
      "A matrix : \n",
      "  [[0. 0. 0. 0.]\n",
      " [0. 0. 0. 0.]\n",
      " [0. 0. 0. 0.]]\n",
      "B matrix : \n",
      "  [[1. 1. 1. 1.]\n",
      " [1. 1. 1. 1.]\n",
      " [1. 1. 1. 1.]]\n",
      "C matrix : \n",
      "  [[0. 0. 0. 0. 1. 1. 1. 1.]\n",
      " [0. 0. 0. 0. 1. 1. 1. 1.]\n",
      " [0. 0. 0. 0. 1. 1. 1. 1.]]\n",
      "D matrix : \n",
      "  [[0. 0. 0. 0.]\n",
      " [0. 0. 0. 0.]\n",
      " [0. 0. 0. 0.]\n",
      " [1. 1. 1. 1.]\n",
      " [1. 1. 1. 1.]\n",
      " [1. 1. 1. 1.]]\n"
     ]
    }
   ],
   "source": [
    "A=np.zeros([3,4])\n",
    "print(\"A matrix : \\n \", A)\n",
    "B=np.ones([3,4])\n",
    "print(\"B matrix : \\n \", B)\n",
    "C=np.hstack((A,B))\n",
    "print(\"C matrix : \\n \", C)\n",
    "D=np.vstack((A,B))\n",
    "print(\"D matrix : \\n \", D)\n"
   ]
  },
  {
   "cell_type": "code",
   "execution_count": 58,
   "id": "9a26e5c4-3362-4fa8-8961-42de49b90548",
   "metadata": {},
   "outputs": [
    {
     "name": "stdout",
     "output_type": "stream",
     "text": [
      "[[1 3 6]\n",
      " [2 4 7]\n",
      " [3 5 8]]\n",
      "[[1 2 3]\n",
      " [3 4 5]\n",
      " [6 7 8]]\n",
      "hsplit \n",
      " [[ 0  1]\n",
      " [ 4  5]\n",
      " [ 8  9]\n",
      " [12 13]] \n",
      " [[ 2  3]\n",
      " [ 6  7]\n",
      " [10 11]\n",
      " [14 15]]\n",
      "vsplit \n",
      " [[0 1 2 3]\n",
      " [4 5 6 7]] \n",
      " [[ 8  9 10 11]\n",
      " [12 13 14 15]]\n",
      "split \n",
      " [[ 0]\n",
      " [ 4]\n",
      " [ 8]\n",
      " [12]] \n",
      " [[ 1  2]\n",
      " [ 5  6]\n",
      " [ 9 10]\n",
      " [13 14]] \n",
      " [[ 3]\n",
      " [ 7]\n",
      " [11]\n",
      " [15]]\n"
     ]
    }
   ],
   "source": [
    "e=np.array([1,2,3])\n",
    "f=np.array([3,4,5])\n",
    "g=np.array([6,7,8])\n",
    "print(np.column_stack((e,f,g)))\n",
    "print(np.row_stack((e,f,g)))\n",
    "\n",
    "h=np.arange(16).reshape((4,4))\n",
    "[z1,z2]=np.hsplit(h,2)\n",
    "print(\"hsplit \\n\", z1, \"\\n\", z2)\n",
    "\n",
    "i=np.arange(16).reshape((4,4))\n",
    "[x,y]=np.vsplit(i,2)\n",
    "print(\"vsplit \\n\", x,\"\\n\",y)\n",
    "\n",
    "j=np.arange(16).reshape((4,4))\n",
    "[z4,z5,z6]=np.split(j,[1,3],axis=1)\n",
    "print(\"split \\n\", z4,\"\\n\",z5,\"\\n\",z6)"
   ]
  },
  {
   "cell_type": "code",
   "execution_count": 60,
   "id": "62ba1cf6-1af7-4064-8b12-eda877933377",
   "metadata": {},
   "outputs": [
    {
     "name": "stdout",
     "output_type": "stream",
     "text": [
      "[[0 1 2 3]] \n",
      " [[ 4  5  6  7]\n",
      " [ 8  9 10 11]] \n",
      " [[12 13 14 15]]\n"
     ]
    }
   ],
   "source": [
    "k=np.arange(16).reshape((4,4))\n",
    "[b1,c1,d1]=np.split(k, [1,3], axis=0)\n",
    "print(b1,\"\\n\",c1,\"\\n\",d1)"
   ]
  },
  {
   "cell_type": "code",
   "execution_count": 83,
   "id": "ad70bc85-af2e-4596-ab7a-ca59479b1ea0",
   "metadata": {},
   "outputs": [
    {
     "name": "stdout",
     "output_type": "stream",
     "text": [
      "arr 1 :  [0 1 2 3 4]\n",
      "arr 2 : \n",
      " [[ 0  1  2  3  4]\n",
      " [ 5  6  7  8  9]\n",
      " [10 11 12 13 14]]\n",
      "[[ 0  2  4  6  8]\n",
      " [ 5  7  9 11 13]\n",
      " [10 12 14 16 18]]\n",
      "Age Vectorization :  [47 50 28]\n",
      "('Alex', 25, 27000, 'Driver')\n"
     ]
    }
   ],
   "source": [
    "arr1=np.arange(5)\n",
    "arr2=np.arange(15).reshape((3,5))\n",
    "print(\"arr 1 : \", arr1)\n",
    "print(\"arr 2 : \\n\", arr2)\n",
    "\n",
    "print(arr1+arr2)\n",
    "\n",
    "age=np.dtype([('age', 'i4')])\n",
    "\n",
    "l=np.array([(47,),(50,),(28,)], dtype=age)\n",
    "\n",
    "print(\"Age Vectorization : \",l['age'])\n",
    "\n",
    "\n",
    "\n",
    "workers=np.dtype([('name', 'U20'),('age', 'i1'),('salary','i4'), ('ocuupation', 'U30')])\n",
    "w=np.array([('John',23,30000,'Carpenter'),('Smith',28,35000,'Mechanic'),('Alex',25,27000,'Driver')], dtype=workers)\n",
    "print(w[2])\n"
   ]
  },
  {
   "cell_type": "code",
   "execution_count": null,
   "id": "fc4616b4-dc44-4130-809f-79b5e2656392",
   "metadata": {},
   "outputs": [],
   "source": []
  }
 ],
 "metadata": {
  "kernelspec": {
   "display_name": "Python 3 (ipykernel)",
   "language": "python",
   "name": "python3"
  },
  "language_info": {
   "codemirror_mode": {
    "name": "ipython",
    "version": 3
   },
   "file_extension": ".py",
   "mimetype": "text/x-python",
   "name": "python",
   "nbconvert_exporter": "python",
   "pygments_lexer": "ipython3",
   "version": "3.10.12"
  }
 },
 "nbformat": 4,
 "nbformat_minor": 5
}
