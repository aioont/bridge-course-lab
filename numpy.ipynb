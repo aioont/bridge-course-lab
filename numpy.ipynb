{
 "cells": [
  {
   "cell_type": "code",
   "execution_count": 2,
   "id": "73f25c6b",
   "metadata": {},
   "outputs": [
    {
     "name": "stdout",
     "output_type": "stream",
     "text": [
      "<built-in function array>\n"
     ]
    }
   ],
   "source": [
    "import numpy as np\n",
    "a=np.array\n",
    "print(a)"
   ]
  },
  {
   "cell_type": "code",
   "execution_count": 62,
   "id": "d94f1620",
   "metadata": {},
   "outputs": [
    {
     "name": "stdout",
     "output_type": "stream",
     "text": [
      "[40 50 60] \n",
      " [10 20 30] \n",
      " [1.+0.j 3.+0.j 5.+0.j 7.+0.j]\n",
      "[[1 2 3 4 5]\n",
      " [5 6 7 8 9]]\n",
      "Dimesion of arr :  2\n",
      "Each item contains :  8  bytes \n",
      "arr data type :  int64\n",
      "arr size :  10\n",
      "arr row x col :  (2, 5)\n",
      "arr row x col :  (5, 2)\n",
      "new_arr :  [[1 2]\n",
      " [3 4]\n",
      " [5 5]\n",
      " [6 7]\n",
      " [8 9]]\n",
      "new_arr [1,2] data :  [[3 4]]\n",
      "arr.max =  9\n",
      "arr.min =  1\n",
      "arr.sum =  50\n",
      "1 to 10 in 5 pieces :  [ 1.    3.25  5.5   7.75 10.  ]\n",
      "2nd and 3rd element :  [10 15]\n",
      "arr : \n",
      " [[1 2 3 4 5]\n",
      " [5 6 7 8 9]]\n",
      "3rd col : \n",
      " [[3]\n",
      " [7]]\n",
      "sqrt of in arr :  [[1.         1.41421356 1.73205081 2.         2.23606798]\n",
      " [2.23606798 2.44948974 2.64575131 2.82842712 3.        ]]\n"
     ]
    }
   ],
   "source": [
    "import numpy as np\n",
    "al=np.array([40,50,60])\n",
    "at=np.array((10,20,30))\n",
    "alc=np.array([1,3,5,7], complex)\n",
    "print(al, \"\\n\" , at,\"\\n\" , alc)\n",
    "arr=np.array([[1,2,3,4,5],[5,6,7,8,9]])\n",
    "print(arr)\n",
    "print(\"Dimesion of arr : \", arr.ndim)\n",
    "print(\"Each item contains : \",arr.itemsize, \" bytes \")\n",
    "print(\"arr data type : \", arr.dtype)\n",
    "print(\"arr size : \", arr.size)\n",
    "print(\"arr row x col : \", arr.shape)\n",
    "new_arr=arr.reshape(5,2)\n",
    "print(\"arr row x col : \", new_arr.shape)\n",
    "\n",
    "print(\"new_arr : \", new_arr)\n",
    "print(\"new_arr [1,2] data : \",new_arr[1:2])\n",
    "print(\"arr.max = \",arr.max())\n",
    "print(\"arr.min = \",arr.min())\n",
    "print(\"arr.sum = \",arr.sum())\n",
    "linspace_arr=np.linspace(1,10,5)\n",
    "print(\"1 to 10 in 5 pieces : \", linspace_arr)\n",
    "\n",
    "num=np.array([5,10,15,20])\n",
    "print(\"2nd and 3rd element : \", num[1:3])\n",
    "print(\"arr : \\n\", arr)\n",
    "print(\"3rd col : \\n\", arr[0:2,2:3])\n",
    "\n"
   ]
  },
  {
   "cell_type": "code",
   "execution_count": 86,
   "id": "55113b81",
   "metadata": {},
   "outputs": [
    {
     "name": "stdout",
     "output_type": "stream",
     "text": [
      "sqrt of in arr :  [1.         1.73205081 3.         4.         5.        ]\n",
      "a :  [0 1 2 3 4]\n",
      "b :  [ 6  7  8  9 10]\n",
      "Sum =  [ 6  8 10 12 14]\n",
      "Substraction =  [-6 -6 -6 -6 -6]\n",
      "Mul =  [ 0  7 16 27 40]\n",
      "Div =  [0.         0.14285714 0.25       0.33333333 0.4       ]\n",
      "[[ 1  2  3  4]\n",
      " [ 5  6  7  8]\n",
      " [ 9 10 11 12]]\n",
      "Arr vertical =  [[2]\n",
      " [3]\n",
      " [4]\n",
      " [5]]\n",
      "Arr horizontal =  [ 1  2  3  4  5  6  7  8  9 10 11 12]\n"
     ]
    }
   ],
   "source": [
    "sq_arr=[1,3,9,16,25]\n",
    "print(\"sqrt of in arr : \", np.sqrt(sq_arr))\n",
    "\n",
    "a=np.arange(5)\n",
    "print(\"a : \", a)\n",
    "b=np.arange(6,11)\n",
    "print(\"b : \", b)\n",
    "print(\"Sum = \", a+b)\n",
    "print(\"Substraction = \", a-b)\n",
    "print(\"Mul = \", a*b)\n",
    "print(\"Div = \", a/b)\n",
    "\n",
    "a=np.arange(1,13)\n",
    "ar=a.reshape(3,4)\n",
    "print(ar)\n",
    "print(\"Arr vertical = \", np.vstack(a[1:5]))\n",
    "print(\"Arr horizontal = \", np.hstack(a))"
   ]
  },
  {
   "cell_type": "code",
   "execution_count": 59,
   "id": "638fa3b6",
   "metadata": {},
   "outputs": [
    {
     "data": {
      "image/png": "[encoded data removed]",
      "text/plain": [
       "<Figure size 432x288 with 1 Axes>"
      ]
     },
     "metadata": {
      "needs_background": "light"
     },
     "output_type": "display_data"
    }
   ],
   "source": [
    "    "
   ]
  },
  {
   "cell_type": "code",
   "execution_count": null,
   "id": "ee1b8b80",
   "metadata": {},
   "outputs": [],
   "source": []
  }
 ],
 "metadata": {
  "kernelspec": {
   "display_name": "Python 3 (ipykernel)",
   "language": "python",
   "name": "python3"
  },
  "language_info": {
   "codemirror_mode": {
    "name": "ipython",
    "version": 3
   },
   "file_extension": ".py",
   "mimetype": "text/x-python",
   "name": "python",
   "nbconvert_exporter": "python",
   "pygments_lexer": "ipython3",
   "version": "3.10.12"
  }
 },
 "nbformat": 4,
 "nbformat_minor": 5
}
