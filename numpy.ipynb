{
 "cells": [
  {
   "cell_type": "markdown",
   "id": "af07e294",
   "metadata": {},
   "source": [
    "Python NumPy is a general-purpose array processing package which provides tools for handling the n-dimensional arrays. It provides various computing tools such as comprehensive mathematical functions, linear algebra routines. NumPy provides both the flexibility of Python and the speed of well-optimized compiled C code. It’s easy to use syntax makes it highly accessible and productive for programmers from any background.\n"
   ]
  },
  {
   "cell_type": "markdown",
   "id": "d4c4601b",
   "metadata": {},
   "source": [
    "NumPy is a general-purpose array-processing package. It provides a high-performance multidimensional array object and tools for working with these arrays. It is the fundamental package for scientific computing with Python. It is open-source software.\n"
   ]
  },
  {
   "cell_type": "markdown",
   "id": "05796221",
   "metadata": {},
   "source": [
    "Arrays in NumPy\n",
    "\n",
    "NumPy’s main object is the homogeneous multidimensional array.\n",
    "\n",
    "    It is a table of elements (usually numbers), all of the same type, indexed by a tuple of positive integers.\n",
    "    In NumPy, dimensions are called axes. The number of axes is rank.\n",
    "    NumPy’s array class is called ndarray. It is also known by the alias array."
   ]
  },
  {
   "cell_type": "code",
   "execution_count": 35,
   "id": "f09c3fb0",
   "metadata": {},
   "outputs": [
    {
     "name": "stdout",
     "output_type": "stream",
     "text": [
      "[[1 2 3 4]\n",
      " [5 6 7 9]]\n",
      "Type of numpy array :  <class 'numpy.ndarray'>\n",
      "int64\n",
      "Dimensions of array (1D,2D) :  2\n",
      "Array size (no of ele ):  8\n",
      "Array order (mxn) :  (2, 4)\n",
      "[ 0  1  2  3  4  5  6  7  8  9 10 11]\n",
      "Array 4x3 : \n",
      " [[101 102 103]\n",
      " [104 105 106]\n",
      " [107 108 109]\n",
      " [110 111 112]]\n",
      "Array 3x4 : \n",
      " [[101 102 103 104]\n",
      " [105 106 107 108]\n",
      " [109 110 111 112]]\n",
      "Reshaped 1D arr2 : \n",
      " [[ 0  1  2]\n",
      " [ 3  4  5]\n",
      " [ 6  7  8]\n",
      " [ 9 10 11]]\n"
     ]
    }
   ],
   "source": [
    "import numpy as np\n",
    "arr = np.array([[1,2,3,4],[5,6,7,9]]) \n",
    "print(arr)\n",
    "\n",
    "print(\"Type of numpy array : \", type(arr))\n",
    "\n",
    "print(arr.dtype)\n",
    "\n",
    "print(\"Dimensions of array (1D,2D) : \",arr.ndim)\n",
    "\n",
    "print(\"Array size (no of ele ): \", arr.size)\n",
    "print(\"Array order (mxn) : \", arr.shape)\n",
    "arr2=np.arange(0,12)\n",
    "print(arr2)\n",
    "arr3=np.arange(101,113).reshape((4,3))\n",
    "print(\"Array 4x3 : \\n\", arr3)\n",
    "arr4=np.arange(101,113).reshape((3,4))\n",
    "print(\"Array 3x4 : \\n\", arr4)\n",
    "arr2=arr2.reshape(4,3)\n",
    "print(\"Reshaped 1D arr2 : \\n\", arr2)\n"
   ]
  },
  {
   "cell_type": "markdown",
   "id": "9e80e86c",
   "metadata": {},
   "source": [
    "NumPy Array Creation"
   ]
  },
  {
   "cell_type": "markdown",
   "id": "43d38d85",
   "metadata": {},
   "source": [
    "1. You can create an array from a regular Python list or tuple using the array() function."
   ]
  },
  {
   "cell_type": "code",
   "execution_count": 39,
   "id": "ae204a5c",
   "metadata": {},
   "outputs": [
    {
     "name": "stdout",
     "output_type": "stream",
     "text": [
      "[[10. 20.]\n",
      " [30. 40.]]\n"
     ]
    }
   ],
   "source": [
    "arr5=np.array([[10,20],[30,40]], dtype='float')\n",
    "print(arr5)"
   ]
  },
  {
   "cell_type": "code",
   "execution_count": 47,
   "id": "8f0d2b8b",
   "metadata": {},
   "outputs": [
    {
     "name": "stdout",
     "output_type": "stream",
     "text": [
      "Initiliase arr with zero : \n",
      " [[0. 0. 0. 0.]\n",
      " [0. 0. 0. 0.]\n",
      " [0. 0. 0. 0.]]\n",
      "Initiliase arr with constant : \n",
      " [[10 10]\n",
      " [10 10]\n",
      " [10 10]]\n"
     ]
    }
   ],
   "source": [
    "# 2. Create array with all zeros \n",
    "\n",
    "zero = np.zeros((3, 4))\n",
    "print(\"Initiliase arr with zero : \\n\",zero)\n",
    "\n",
    "# Create a new array with constant value\n",
    "const = np.full((3, 2), 10)\n",
    "print(\"Initiliase arr with constant : \\n\", const)"
   ]
  },
  {
   "cell_type": "code",
   "execution_count": 44,
   "id": "6d566ec7",
   "metadata": {},
   "outputs": [
    {
     "name": "stdout",
     "output_type": "stream",
     "text": [
      "[ 60 150 240]\n",
      "[ 60 150 240]\n"
     ]
    }
   ],
   "source": [
    "# Array multiplication\n",
    "\n",
    "z=[[1,2,3],[4,5,6],[7,8,9]]\n",
    "x=[10,10,10]\n",
    "print(np.matmul(z,x))\n",
    "print(np.dot(z,x))"
   ]
  },
  {
   "cell_type": "code",
   "execution_count": 56,
   "id": "6f7e19a8",
   "metadata": {},
   "outputs": [
    {
     "name": "stdout",
     "output_type": "stream",
     "text": [
      "Array a:  [0 1 2 3 4]\n",
      "Increment each element :  [1 2 3 4 5]\n",
      "[ 0  5 10 15 20 25 30]\n"
     ]
    }
   ],
   "source": [
    "# 3. Array creation usng arange\n",
    "a=np.arange(5)\n",
    "print(\"Array a: \",a)\n",
    "a+=1\n",
    "print(\"Increment each element : \", a)\n",
    "print(np.arange(0,31,5))\n"
   ]
  },
  {
   "cell_type": "code",
   "execution_count": 67,
   "id": "43781305",
   "metadata": {},
   "outputs": [
    {
     "name": "stdout",
     "output_type": "stream",
     "text": [
      "2D array : \n",
      " [[ 0.5  1.   1.5  2. ]\n",
      " [ 2.5  3.   3.5  4. ]\n",
      " [ 4.5  5.   5.5  6. ]\n",
      " [ 6.5  7.   7.5  8. ]\n",
      " [ 8.5  9.   9.5 10. ]]\n",
      "[[ 0.5  1.   1.5  2. ]\n",
      " [ 2.5  3.   3.5  4. ]\n",
      " [ 4.5  5.   5.5  6. ]\n",
      " [ 6.5  7.   7.5  8. ]\n",
      " [ 8.5  9.   9.5 10. ]]\n",
      "3D array : \n",
      " [ 0.5  1.   1.5  2.   2.5  3.   3.5  4.   4.5  5.   5.5  6.   6.5  7.\n",
      "  7.5  8.   8.5  9.   9.5 10. ]\n"
     ]
    }
   ],
   "source": [
    "# 4. Array creation using linspace\n",
    "equi_div=np.linspace(.5,10,20)\n",
    "newarr=equi_div.reshape(5,4)\n",
    "print(\"2D array : \\n\",newarr)\n",
    "d3newarr=equi_div.reshape(5,4)\n",
    "print(d3newarr)\n",
    "print(\"3D array : \\n\",equi_div)"
   ]
  },
  {
   "cell_type": "code",
   "execution_count": null,
   "id": "f5cd6d9c",
   "metadata": {},
   "outputs": [],
   "source": [
    "# 5. Reshaping array\n",
    "\n"
   ]
  }
 ],
 "metadata": {
  "kernelspec": {
   "display_name": "Python 3 (ipykernel)",
   "language": "python",
   "name": "python3"
  },
  "language_info": {
   "codemirror_mode": {
    "name": "ipython",
    "version": 3
   },
   "file_extension": ".py",
   "mimetype": "text/x-python",
   "name": "python",
   "nbconvert_exporter": "python",
   "pygments_lexer": "ipython3",
   "version": "3.10.12"
  }
 },
 "nbformat": 4,
 "nbformat_minor": 5
}
