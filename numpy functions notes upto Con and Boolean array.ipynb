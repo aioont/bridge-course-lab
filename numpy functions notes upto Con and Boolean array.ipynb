{
 "cells": [
  {
   "cell_type": "code",
   "execution_count": 65,
   "id": "06cc4f36",
   "metadata": {},
   "outputs": [
    {
     "name": "stdout",
     "output_type": "stream",
     "text": [
      "[ 0.  2.  4.  6.  8. 10.]\n",
      "[[ 0.  2.  4.]\n",
      " [ 6.  8. 10.]]\n",
      "10\n",
      "(-20+46j)\n",
      "(-20+46j)\n",
      "a7 and a8 140\n",
      "--- a11dot  \n",
      " [[108 141 174]\n",
      " [276 372 468]]\n",
      "--- multiply  \n",
      " [[108 141 174]\n",
      " [276 372 468]]\n",
      "all :  [[10, 11, 12], [13, 14, 15], [16, 17, 18]]\n",
      "first row :  [[10, 11, 12]]\n",
      "3rd rowil 1 to 2 rows [[16, 17, 18]]\n",
      "a14 =  14\n",
      "a14[[1,2],[1:2]] =  [[16 17 18]]\n",
      "2nd,3rd row and 2nd,3rd col :  [[14 15]\n",
      " [17 18]]\n",
      "2nd,3rd row and 2nd,3rd col :  [[14 15]\n",
      " [17 18]]\n",
      "2nd,3rd row and 2nd,3rd col :  [[10 11 12]\n",
      " [16 17 18]]\n"
     ]
    }
   ],
   "source": [
    "import numpy as np\n",
    "arr=np.arange(0,12,2,float)\n",
    "print(arr)\n",
    "arr=arr.reshape(2,3)\n",
    "print(arr)\n",
    "a1=2\n",
    "a2=5\n",
    "a3=np.dot(a1,a2)\n",
    "print(a3)\n",
    "a4=3+5j\n",
    "a5=5+7j\n",
    "a6=np.dot(a4,a5)\n",
    "print(a6)\n",
    "print(a4*a5)\n",
    "\n",
    "a7=np.array([1,2,3,4])\n",
    "a8=np.arange(12,16)\n",
    "print(\"a7 and a8\", np.dot(a7,a8))\n",
    "\n",
    "a9=np.array([[1,2,3],[4,5,6]])\n",
    "a10=[[10,20,30],[40,50,60],[6,7,8]]\n",
    "a11=np.dot(a9,a10)\n",
    "print(\"--- a11dot  \\n\",a11)\n",
    "a12=np.matmul(a9,a10)\n",
    "print(\"--- multiply  \\n\",a12)\n",
    "\n",
    "a13=[[10,11,12],[13,14,15],[16,17,18]]\n",
    "print(\"all : \",a13[0:]) # all\n",
    "print(\"first row : \", a13[:1]) # first row\n",
    "print(\"3rd rowil 1 to 2 rows\", a13[1:3][1:3])\n",
    "\n",
    "a14=np.arange(10,19).reshape(3,3)\n",
    "print(\"a14 = \", a14[1:2][0,1])\n",
    "print(\"a14[[1,2],[1:2]] = \",a14[[1,2][1:2]])\n",
    "print(\"2nd,3rd row and 2nd,3rd col : \",a14[1:3,1:3])\n",
    "print(\"[[14 15] [17 18]] \\n: \",a14[[1,2],1:3])\n",
    "print(\" [[10 11 12] [16 17 18]] :\\n \",a14[[0,2],0:3])"
   ]
  },
  {
   "cell_type": "code",
   "execution_count": 96,
   "id": "96d909bb",
   "metadata": {},
   "outputs": [
    {
     "name": "stdout",
     "output_type": "stream",
     "text": [
      "[1 2 3 4]\n",
      "1\n",
      "2\n",
      "3\n",
      "4\n",
      "\n",
      " [[1 2]\n",
      " [3 4]]\n",
      "2 for loop : \n",
      "[1 2] [1 2] [3 4] [3 4] \n",
      "2 for loop 2nd : \n",
      "1 2 3 4 \n",
      "nditer\n",
      "1\n",
      "2\n",
      "3\n",
      "4\n",
      "\n",
      "flat\n",
      "[1, 2, 3, 4]\n",
      "\n",
      "flat\n",
      "1\n",
      "2\n",
      "3\n",
      "4\n"
     ]
    }
   ],
   "source": [
    "arr=np.array([1,2,3,4])\n",
    "print(arr)\n",
    "for i in arr:\n",
    "    print(i)\n",
    "    \n",
    "arr2=np.array([[1,2],[3,4]])\n",
    "print(\"\\n\",arr2)\n",
    "\n",
    "print(\"2 for loop : \")\n",
    "for i in arr2:\n",
    "    for j in i:\n",
    "        print(i,end=\" \")\n",
    "        \n",
    "print(\"\\n2 for loop 2nd : \")\n",
    "for i in arr2:\n",
    "    for j in i:\n",
    "        print(j,end=\" \")\n",
    "        \n",
    "print(\"\\nnditer\")\n",
    "arr3=np.array([[1,2],[3,4]])\n",
    "for i in np.nditer(arr3):\n",
    "    print(i)\n",
    "    \n",
    "print(\"\\nflat\")\n",
    "print(list(arr3.flat))\n",
    "\n",
    "print(\"\\nflat\")\n",
    "for i in arr3.flat:\n",
    "    print(i)\n"
   ]
  },
  {
   "cell_type": "code",
   "execution_count": 100,
   "id": "b84d4213",
   "metadata": {},
   "outputs": [
    {
     "ename": "ModuleNotFoundError",
     "evalue": "No module named 'pygame'",
     "output_type": "error",
     "traceback": [
      "\u001b[0;31m---------------------------------------------------------------------------\u001b[0m",
      "\u001b[0;31mModuleNotFoundError\u001b[0m                       Traceback (most recent call last)",
      "\u001b[0;32m/tmp/ipykernel_4163/1940862361.py\u001b[0m in \u001b[0;36m<module>\u001b[0;34m\u001b[0m\n\u001b[0;32m----> 1\u001b[0;31m \u001b[0;32mimport\u001b[0m \u001b[0mpygame\u001b[0m\u001b[0;34m\u001b[0m\u001b[0;34m\u001b[0m\u001b[0m\n\u001b[0m\u001b[1;32m      2\u001b[0m \u001b[0;32mimport\u001b[0m \u001b[0msys\u001b[0m\u001b[0;34m\u001b[0m\u001b[0;34m\u001b[0m\u001b[0m\n\u001b[1;32m      3\u001b[0m \u001b[0;34m\u001b[0m\u001b[0m\n\u001b[1;32m      4\u001b[0m \u001b[0;31m# Initialize Pygame\u001b[0m\u001b[0;34m\u001b[0m\u001b[0;34m\u001b[0m\u001b[0m\n\u001b[1;32m      5\u001b[0m \u001b[0mpygame\u001b[0m\u001b[0;34m.\u001b[0m\u001b[0minit\u001b[0m\u001b[0;34m(\u001b[0m\u001b[0;34m)\u001b[0m\u001b[0;34m\u001b[0m\u001b[0;34m\u001b[0m\u001b[0m\n",
      "\u001b[0;31mModuleNotFoundError\u001b[0m: No module named 'pygame'"
     ]
    }
   ],
   "source": []
  },
  {
   "cell_type": "code",
   "execution_count": 109,
   "id": "c5f5b21f",
   "metadata": {},
   "outputs": [
    {
     "name": "stdout",
     "output_type": "stream",
     "text": [
      "a2d<5 =  [[ True  True  True  True]\n",
      " [False False False False]]\n",
      "\n",
      "a2d=!3 [[ True  True  True  True]\n",
      " [False  True  True  True]]\n",
      "[[1 2 3]\n",
      " [4 5 6]]\n",
      "\n",
      "c=c2==5 [[False False False]\n",
      " [False  True False]]\n",
      "Check if atleast one true value exists :  True\n",
      "Check if all values are true :  False\n"
     ]
    }
   ],
   "source": [
    "a2d=np.array([[1,2,3,4],[5,6,7,8]])\n",
    "print(\"a2d<5 = \", a2d<5)\n",
    "\n",
    "a2d=np.array([[1,2,3,4],[5,6,7,8]])\n",
    "print(\"\\na2d=!3\", a2d!=5)\n",
    "\n",
    "c2=np.array([[1,2,3],[4,5,6]])\n",
    "print(c2)\n",
    "c=c2==5\n",
    "print(\"\\nc=c2==5\",c)\n",
    "print(\"Check if atleast one true value exists : \",c.any())\n",
    "print(\"Check if all values are true : \",c.all())"
   ]
  },
  {
   "cell_type": "code",
   "execution_count": null,
   "id": "8575f259",
   "metadata": {},
   "outputs": [],
   "source": []
  }
 ],
 "metadata": {
  "kernelspec": {
   "display_name": "Python 3 (ipykernel)",
   "language": "python",
   "name": "python3"
  },
  "language_info": {
   "codemirror_mode": {
    "name": "ipython",
    "version": 3
   },
   "file_extension": ".py",
   "mimetype": "text/x-python",
   "name": "python",
   "nbconvert_exporter": "python",
   "pygments_lexer": "ipython3",
   "version": "3.10.12"
  }
 },
 "nbformat": 4,
 "nbformat_minor": 5
}
