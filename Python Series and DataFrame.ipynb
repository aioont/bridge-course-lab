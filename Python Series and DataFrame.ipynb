{
 "cells": [
  {
   "cell_type": "markdown",
   "id": "5eff830b-8851-49d0-b31d-19e8970ee609",
   "metadata": {},
   "source": [
    "# Pandas - Series"
   ]
  },
  {
   "cell_type": "code",
   "execution_count": 24,
   "id": "7f96d322-174d-4866-aa6a-39e39c7f07e2",
   "metadata": {},
   "outputs": [
    {
     "name": "stdout",
     "output_type": "stream",
     "text": [
      "Series([], dtype: object)\n",
      "0    a\n",
      "1    e\n",
      "2    i\n",
      "3    o\n",
      "4    u\n",
      "dtype: object\n",
      "\n",
      "data[2] =  i\n",
      "0    a\n",
      "1    e\n",
      "dtype: object\n",
      "\n",
      "Values by label :\n",
      " 3    o\n",
      "4    u\n",
      "dtype: object\n"
     ]
    }
   ],
   "source": [
    "import pandas as pd\n",
    "# Empty Series \n",
    "ser=pd.Series()\n",
    "print(ser)\n",
    "\n",
    "data=pd.Series(['a', 'e', 'i', 'o', 'u'])\n",
    "print(data)\n",
    "print(\"\\ndata[2] = \", data[2])\n",
    "print(data[0:2])\n",
    "print(\"\\nValues by label :\\n\",data[[3,4]])"
   ]
  },
  {
   "cell_type": "code",
   "execution_count": 16,
   "id": "1f11f1d6-3b29-4539-81bb-80f5c0e6e6fc",
   "metadata": {},
   "outputs": [
    {
     "name": "stdout",
     "output_type": "stream",
     "text": [
      "MID20230001\n",
      "MID20230002\n",
      "MID20230003\n",
      "MID20230004\n",
      "Alex    MID20230001\n",
      "Nia     MID20230002\n",
      "Jhon    MID20230003\n",
      "Bob     MID20230004\n",
      "dtype: object\n"
     ]
    }
   ],
   "source": [
    "mid=pd.Series(['MID20230001','MID20230002','MID20230003','MID20230004'], index=['Alex','Nia','Jhon','Bob'])\n",
    "for i in mid:\n",
    "    print(i)\n",
    "print(mid)"
   ]
  },
  {
   "cell_type": "code",
   "execution_count": 17,
   "id": "2ee42d41-47bc-40a2-a3a7-7d28830f5cf3",
   "metadata": {},
   "outputs": [
    {
     "name": "stdout",
     "output_type": "stream",
     "text": [
      "Sugar     40\n",
      "Rice      36\n",
      "Banana    25\n",
      "dtype: int64\n"
     ]
    }
   ],
   "source": [
    "l1=[40,36,25]\n",
    "shop=pd.Series(l1, index=['Sugar','Rice','Banana'])\n",
    "print(shop)"
   ]
  },
  {
   "cell_type": "code",
   "execution_count": 20,
   "id": "a084800d-c99b-4a13-8fca-259f11a261b7",
   "metadata": {},
   "outputs": [
    {
     "name": "stdout",
     "output_type": "stream",
     "text": [
      "a     10\n",
      "b    NaN\n",
      "dtype: object\n"
     ]
    }
   ],
   "source": [
    "snan=pd.Series([10, 'NaN'],index=['a', 'b'])\n",
    "print(snan)"
   ]
  },
  {
   "cell_type": "code",
   "execution_count": 27,
   "id": "5fd24fe6-204e-4c86-a83e-4a25905c7e29",
   "metadata": {},
   "outputs": [
    {
     "name": "stdout",
     "output_type": "stream",
     "text": [
      "R      Red\n",
      "G    Green\n",
      "B     Blue\n",
      "dtype: object\n"
     ]
    }
   ],
   "source": [
    "dict1={'R':'Red', 'G':'Green', 'B':'Blue'}\n",
    "s=pd.Series(dict1)\n",
    "print(s)"
   ]
  },
  {
   "cell_type": "code",
   "execution_count": 29,
   "id": "3d97a04a-4729-40aa-9468-2ae9b33aee18",
   "metadata": {},
   "outputs": [
    {
     "name": "stdout",
     "output_type": "stream",
     "text": [
      "0    False\n",
      "1    False\n",
      "2    False\n",
      "3    False\n",
      "4    False\n",
      "5     True\n",
      "6     True\n",
      "7     True\n",
      "8     True\n",
      "9     True\n",
      "dtype: bool\n"
     ]
    }
   ],
   "source": [
    "conds=pd.Series([1,2,3,4,5,6,7,8,9,10])\n",
    "# Returns boolean value\n",
    "print(conds>5)"
   ]
  },
  {
   "cell_type": "code",
   "execution_count": 35,
   "id": "fa89c23e-89ac-49da-a4a7-56f3c0d69c01",
   "metadata": {},
   "outputs": [
    {
     "name": "stdout",
     "output_type": "stream",
     "text": [
      "0    23.0\n",
      "1    25.0\n",
      "2     NaN\n",
      "dtype: float64\n",
      "\n",
      "s2+s3 =  0    33.0\n",
      "1    35.0\n",
      "2    <NA>\n",
      "dtype: object\n"
     ]
    }
   ],
   "source": [
    "# Mathematical Operation on Series\n",
    "import numpy as np\n",
    "s1=pd.Series([10,11,12])\n",
    "s2=pd.Series([13,14,np.nan])\n",
    "s3=pd.Series([20,21,pd.NA])\n",
    "print(s1+s2)\n",
    "print(\"\\ns2+s3 = \", s2+s3)"
   ]
  },
  {
   "cell_type": "code",
   "execution_count": 82,
   "id": "bf1cf926-2703-497c-9967-89fce1271130",
   "metadata": {},
   "outputs": [
    {
     "name": "stdout",
     "output_type": "stream",
     "text": [
      "white     1\n",
      "white     0\n",
      "blue      2\n",
      "green     1\n",
      "green     2\n",
      "yellow    3\n",
      "dtype: int64\n",
      "\n",
      "Printing all values by rm duplicate :  [1 0 2 3]\n",
      "\n",
      "Return values and count (unique with count):\n",
      " 1    2\n",
      "2    2\n",
      "0    1\n",
      "3    1\n",
      "Name: count, dtype: int64\n",
      "\n",
      "Return value and boolean:\n",
      " white      True\n",
      "white     False\n",
      "blue      False\n",
      "green      True\n",
      "green     False\n",
      "yellow    False\n",
      "dtype: bool\n",
      "\n",
      " => isnull:\n",
      " white     False\n",
      "yellow     True\n",
      "dtype: bool\n",
      "\n",
      " => isnotNull:\n",
      " white      True\n",
      "yellow    False\n",
      "dtype: bool\n"
     ]
    }
   ],
   "source": [
    "sc=pd.Series([1,0,2,1,2,3], index=['white','white','blue','green','green','yellow'])\n",
    "\n",
    "print(sc)\n",
    "\n",
    "print(\"\\nPrinting all values by rm duplicate : \",sc.unique())\n",
    "\n",
    "print(\"\\nReturn values and count (unique with count):\\n\",sc.value_counts())\n",
    "\n",
    "print(\"\\nReturn value and boolean:\\n\",sc.isin([1]))\n",
    "\n",
    "import numpy as np\n",
    "sc1=pd.Series([1,np.nan], index=['white','yellow'])\n",
    "print(\"\\n => isnull:\\n\",sc1.isnull())\n",
    "print(\"\\n => isnotNull:\\n\",sc1.notnull())\n"
   ]
  },
  {
   "cell_type": "code",
   "execution_count": 7,
   "id": "2a22242b-8d3e-4cd6-a368-864b73f53bcc",
   "metadata": {},
   "outputs": [
    {
     "name": "stdout",
     "output_type": "stream",
     "text": [
      "\n",
      " +++ is nan +++ \n",
      "        A      B\n",
      "0  False   True\n",
      "1  False  False\n",
      "2   True  False\n",
      "3  False   True\n",
      "4  False  False \n",
      " +++ is not null +++ \n",
      "        A      B\n",
      "0   True  False\n",
      "1   True   True\n",
      "2  False   True\n",
      "3   True  False\n",
      "4   True   True\n"
     ]
    }
   ],
   "source": [
    "# isnull() and notall()\n",
    "import pandas as pd\n",
    "import numpy as np\n",
    "data2={'A':[1,2,np.nan,4,5], 'B':[np.nan,2,3,np.nan,5]}\n",
    "df4=pd.DataFrame(data2)\n",
    "\n",
    "is_nan=df4.isnull()\n",
    "not_nan=df4.notnull()\n",
    "print(\"\\n +++ is nan +++ \\n\", is_nan, \"\\n +++ is not null +++ \\n\",not_nan)"
   ]
  },
  {
   "cell_type": "code",
   "execution_count": 85,
   "id": "f46a389e-184d-4d56-84b5-80c595653091",
   "metadata": {},
   "outputs": [
    {
     "name": "stdout",
     "output_type": "stream",
     "text": [
      "2 dict series addition :\n",
      " Orange       NaN\n",
      "black        NaN\n",
      "blue         NaN\n",
      "red       2400.0\n",
      "yellow     600.0\n",
      "dtype: float64\n"
     ]
    }
   ],
   "source": [
    "d1={'red':2000,'blue':1000,'yellow':500,'Orange':1000}\n",
    "sd1=pd.Series(d1)\n",
    "\n",
    "d2={'red':400,'yellow':100,'black':700}\n",
    "sd2=pd.Series(d2)\n",
    "\n",
    "print(\"2 dict series addition :\\n\", sd1+sd2)"
   ]
  },
  {
   "cell_type": "code",
   "execution_count": 87,
   "id": "8dba448d-585e-4071-8683-33844b70bd36",
   "metadata": {},
   "outputs": [
    {
     "name": "stdout",
     "output_type": "stream",
     "text": [
      "0    777\n",
      "1    777\n",
      "2    777\n",
      "3    777\n",
      "4    777\n",
      "dtype: int64\n"
     ]
    }
   ],
   "source": [
    "s4=pd.Series(777, range(5))\n",
    "print(s4)"
   ]
  },
  {
   "cell_type": "markdown",
   "id": "fb48382f-6d31-40c1-ab5c-1db726b421d8",
   "metadata": {},
   "source": [
    "# Data Frame"
   ]
  },
  {
   "cell_type": "code",
   "execution_count": 98,
   "id": "ac5aa959-ae19-4532-96e4-57be451c3f36",
   "metadata": {},
   "outputs": [
    {
     "name": "stdout",
     "output_type": "stream",
     "text": [
      "=== Multiplication Table ===\n",
      "\n",
      "   0  1  2  3  4\n",
      "0  0  0  0  0  0\n",
      "1  0  1  2  3  4\n",
      "2  0  2  4  6  8\n",
      "3  0  2  4  6  8\n"
     ]
    }
   ],
   "source": [
    "a=[0,0,0,0,0]\n",
    "b=[0,1,2,3,4]\n",
    "c=[0,2,4,6,8]\n",
    "d=[0,2,4,6,8]\n",
    "\n",
    "df=pd.DataFrame([a,b,c,d])\n",
    "print(\"=== Multiplication Table ===\\n\")\n",
    "print(df)"
   ]
  },
  {
   "cell_type": "code",
   "execution_count": 108,
   "id": "11650681-b65d-4343-a696-1f702286f512",
   "metadata": {},
   "outputs": [
    {
     "name": "stdout",
     "output_type": "stream",
     "text": [
      "=== Your expense ===\n",
      "\n",
      "                      Jan   Feb   Mar   Apr   May\n",
      "Paper                 320   330   347   319   380\n",
      "Milk                  600   633   700   734   580\n",
      "Electricity           800   823   923   795   987\n",
      "Total in each month  1720  1786  1970  1848  1947\n"
     ]
    }
   ],
   "source": [
    "bill1=[320,330,347,319,380]\n",
    "bill2=[600,633,700,734,580]\n",
    "bill3=[800,823,923,795,987]\n",
    "total=[sum(i) for i in zip(bill1,bill2,bill3)]\n",
    "\n",
    "print(\"=== Your expense ===\\n\")\n",
    "df=pd.DataFrame([bill1,bill2, bill3,total],index=['Paper','Milk', 'Electricity', 'Total in each month'],columns=['Jan', 'Feb', 'Mar', 'Apr', 'May'])\n",
    "print(df)"
   ]
  },
  {
   "cell_type": "code",
   "execution_count": 129,
   "id": "4e811569-dbc1-497d-be4c-b5b2aad6e395",
   "metadata": {},
   "outputs": [
    {
     "name": "stdout",
     "output_type": "stream",
     "text": [
      "         Player 1  Player 2  Player 3  Player 4  Player 5\n",
      "Matches       543      1738      3478        37        34\n",
      "Score       19823     42323     67546      2423      2833\n",
      "Average        36        24        19        65        83\n"
     ]
    }
   ],
   "source": [
    "# Data Frame using numpy array\n",
    "matches=np.array([543,1738,3478,37,34])\n",
    "score=np.array([19823,42323,67546,2423,2833])\n",
    "players=np.array(['Player 1','Player 2', 'Player 3','Player 4','Player 5'])\n",
    "match_type=np.array(['Matches', 'Score', 'Average'])\n",
    "df_crciket=pd.DataFrame([matches, score, [i[1]//i[0] for i in zip(matches,score)]], index=match_type, columns=players)\n",
    "print(df_crciket)"
   ]
  },
  {
   "cell_type": "code",
   "execution_count": 132,
   "id": "99bf892c-2ce1-4deb-aaa1-e0e6c15ead99",
   "metadata": {},
   "outputs": [
    {
     "name": "stdout",
     "output_type": "stream",
     "text": [
      "    00  01\n",
      "00   1   0\n",
      "10   0   1\n"
     ]
    }
   ],
   "source": [
    "# Data Frame using Tuple\n",
    "\n",
    "t1=(1,0)\n",
    "t2=(0,1)\n",
    "df=pd.DataFrame([t1, t2], index=('00','10'), columns=('00','01'))\n",
    "print(df)\n",
    "\n"
   ]
  },
  {
   "cell_type": "code",
   "execution_count": 135,
   "id": "9b5607ff-b559-433d-be2e-a0cf185e2e62",
   "metadata": {},
   "outputs": [
    {
     "name": "stdout",
     "output_type": "stream",
     "text": [
      "****** Student Details ******\n",
      "   Name  Roll No. Course Name  Total Mark\n",
      "1    A      1001          CS          98\n",
      "2    B      1002          EC          83\n",
      "3    C      1003         PHY          78\n",
      "4    D      1004         CHE          84\n"
     ]
    }
   ],
   "source": [
    "student_col=['Name', 'Roll No.', 'Course Name', 'Total Mark']\n",
    "student_row=[1,2,3,4]\n",
    "s1=['A',1001,'CS', 98]\n",
    "s2=['B',1002,'EC',83]\n",
    "s3=['C',1003,'PHY',78]\n",
    "s4=['D',1004,'CHE',84]\n",
    "\n",
    "name=['A','B','C','D']\n",
    "roll_no=[1001,1002,1003,1004]\n",
    "course_name=['CS','EC','PHY','CHE']\n",
    "total_mark=[98,83,78,84]\n",
    "\n",
    "sdf=pd.DataFrame([s1,s2,s3,s4], index=student_row, columns=student_col)\n",
    "print(\"****** Student Details ******\\n\", sdf)\n",
    "\n"
   ]
  },
  {
   "cell_type": "code",
   "execution_count": 137,
   "id": "823a27bb-bf7f-4638-a703-1d3bd71c7f09",
   "metadata": {},
   "outputs": [
    {
     "name": "stdout",
     "output_type": "stream",
     "text": [
      "###### Student Details Using Dictionary ######\n",
      "   Name  Roll No. Course Name  Total Mark\n",
      "0    A      1001          CS          98\n",
      "1    B      1002          EC          83\n",
      "2    C      1003         PHY          78\n",
      "3    D      1004         CHE          84\n"
     ]
    }
   ],
   "source": [
    "d1={'Name':['A','B','C','D'], 'Roll No.':[1001,1002,1003,1004],'Course Name':['CS','EC','PHY','CHE'],'Total Mark': [98,83,78,84]}\n",
    "\n",
    "sdfd=pd.DataFrame(d1)\n",
    "\n",
    "print(\"###### Student Details Using Dictionary ######\\n\", sdfd)"
   ]
  },
  {
   "cell_type": "code",
   "execution_count": 165,
   "id": "8c874169-84bd-4b0d-bbad-7f1120befc15",
   "metadata": {},
   "outputs": [
    {
     "name": "stdout",
     "output_type": "stream",
     "text": [
      "    Name  Age\n",
      "0  Alice   25\n",
      "3    Dan   40\n",
      "\n",
      "Filtered By Age > 30        Name  Age\n",
      "2  Charlie   35\n",
      "3      Dan   40\n",
      "\n",
      "       Name  Age\n",
      "0    Alice   25\n",
      "2  Charlie   35\n",
      "\n",
      "filtered_df_age<30 or name = alice     Name  Age\n",
      "0  Alice   25\n",
      "1    Bob   30\n"
     ]
    }
   ],
   "source": [
    "data={'Name': ['Alice','Bob','Charlie','Dan'],'Age':[25,30,35,40]}\n",
    "df=pd.DataFrame(data)\n",
    "filtered_df=  df[df['Name'].isin(['Alice', 'Dan'])]\n",
    "print(filtered_df)\n",
    "\n",
    "\n",
    "fil_age=df[df['Age']>30]\n",
    "print(\"\\nFiltered By Age > 30 \",fil_age)\n",
    "\n",
    "fil_name=df[df['Name'].isin(['Alice', 'Charlie'])]\n",
    "print(\"\\n\", fil_name)\n",
    "\n",
    "filtered_df_age30 = df[(df['Age'] < 35) | (df['Name'] == 'Alice')]\n",
    "print(\"\\nfiltered_df_age<30 or name = alice\",filtered_df_age30)"
   ]
  },
  {
   "cell_type": "code",
   "execution_count": 10,
   "id": "cd22fcfd-20cb-4391-a4ba-5b53be5ac637",
   "metadata": {},
   "outputs": [
    {
     "name": "stdout",
     "output_type": "stream",
     "text": [
      "Series doubled\n",
      " A     200\n",
      "B     400\n",
      "C     600\n",
      "D     800\n",
      "E    1000\n",
      "dtype: int64\n"
     ]
    }
   ],
   "source": [
    "# Oues 1: A 100; B 200; C300; D 400; E 500;\n",
    "s5=pd.Series([100,200,300,400,500], index=['A','B','C','D','E'])\n",
    "s6=s5*2 # s5+s5\n",
    "print(\"Series doubled\\n\", s6)\n",
    "        "
   ]
  },
  {
   "cell_type": "code",
   "execution_count": 12,
   "id": "d2dfa862-130a-4ffe-a038-77b4c2409744",
   "metadata": {},
   "outputs": [
    {
     "name": "stdout",
     "output_type": "stream",
     "text": [
      "CS =  95\n",
      "New mark after add by 10 = \n",
      " CS      105\n",
      "PHY      99\n",
      "CHEM    102\n",
      "MATH    105\n",
      "dtype: int64\n"
     ]
    }
   ],
   "source": [
    "# Oues 2: CS 95; PHY 89; CHEM: 92; MATH: 95;\n",
    "mark=pd.Series([95,89,92,95],index=['CS','PHY','CHEM','MATH'])\n",
    "# a] Display cs mark only\n",
    "print(\"CS = \",mark['CS'])\n",
    "# b ] Increase mark by 10 in all sub\n",
    "new_mark=mark+10\n",
    "print(\"New mark after add by 10 = \\n\", new_mark)"
   ]
  },
  {
   "cell_type": "code",
   "execution_count": 16,
   "id": "c1fdddb6-ab10-4251-b381-3689f8aa0c55",
   "metadata": {},
   "outputs": [
    {
     "name": "stdout",
     "output_type": "stream",
     "text": [
      "[10, 20, 25, 50, 10, 20, 25, 50]\n",
      "0     20\n",
      "1     40\n",
      "2     50\n",
      "3    100\n",
      "dtype: int64\n"
     ]
    }
   ],
   "source": [
    "# Oues 3: Guess the output\n",
    "A=[10,20,25,50]\n",
    "print(A*2) # [10, 20, 25, 50, 10, 20, 25, 50]\n",
    "B=pd.Series([10,20,25,50])\n",
    "print(B*2) # [0:20, 1:40, 2:50, 3:100]"
   ]
  },
  {
   "cell_type": "code",
   "execution_count": 24,
   "id": "216ee523-b4f3-40c3-8fff-2515ceca3482",
   "metadata": {},
   "outputs": [
    {
     "name": "stdout",
     "output_type": "stream",
     "text": [
      "A    3900\n",
      "B    4100\n",
      "dtype: int64\n",
      "A    390.0\n",
      "B    410.0\n",
      "C      NaN\n",
      "D    440.0\n",
      "F      NaN\n",
      "dtype: float64\n"
     ]
    }
   ],
   "source": [
    "# Oues 4: Guess the output\n",
    "s7=pd.Series([39,41,42,44],index=['A','B','C','D'])\n",
    "s8=pd.Series([10,10,10,10],index=['A','B','D','F'])\n",
    "\n",
    "# a] s7[:2]*100      A    3900;      B    4100;      dtype: int64\n",
    "print(s7[:2]*100)\n",
    "\n",
    "#b] s7*s8            A    390.0      B    410.0      C      NaN      D    440.0      F      NaN       dtype: float64\n",
    "print(s7*s8)"
   ]
  },
  {
   "cell_type": "code",
   "execution_count": 26,
   "id": "ad20dae0-2a82-43ce-9170-d9609ddcc9c3",
   "metadata": {},
   "outputs": [
    {
     "name": "stdout",
     "output_type": "stream",
     "text": [
      "a     2\n",
      "b     4\n",
      "c     6\n",
      "d     8\n",
      "e    10\n",
      "dtype: int64\n"
     ]
    }
   ],
   "source": [
    "s9=pd.Series(range(2,11,2), index=[x for x in 'abcde'])\n",
    "print(s9)"
   ]
  },
  {
   "cell_type": "code",
   "execution_count": 31,
   "id": "8d1f520f-f15f-4057-b88e-9db173891ba0",
   "metadata": {},
   "outputs": [
    {
     "name": "stdout",
     "output_type": "stream",
     "text": [
      "0    6\n",
      "1    6\n",
      "2    6\n",
      "3    6\n",
      "4    6\n",
      "dtype: int64\n"
     ]
    }
   ],
   "source": [
    "s10=pd.Series([6,6,6,6,6], index=range(0,5))\n",
    "print(s10)"
   ]
  },
  {
   "cell_type": "code",
   "execution_count": 39,
   "id": "9b01bea0-a265-427f-b579-6669c0138235",
   "metadata": {},
   "outputs": [
    {
     "name": "stdout",
     "output_type": "stream",
     "text": [
      "   A  B  C\n",
      "X  1  2  3\n",
      "Y  5  6  7\n"
     ]
    }
   ],
   "source": [
    "d5={'A':[1,5],'B':[2,6],'C':[3,7]}\n",
    "\n",
    "dfd2 = pd.DataFrame(d5, index=['X','Y'])\n",
    "#dfd2 = pd.DataFrame(d5)\n",
    "print(dfd2)"
   ]
  },
  {
   "cell_type": "code",
   "execution_count": 42,
   "id": "0df0eed7-2078-4e3e-84c7-e18e7ddaf2ec",
   "metadata": {},
   "outputs": [
    {
     "name": "stdout",
     "output_type": "stream",
     "text": [
      "             Jan  Feb  Mar\n",
      "First Week    10   20   30\n",
      "Second week   40   50   60\n"
     ]
    }
   ],
   "source": [
    "s1=pd.Series([10,20,30], index=['Jan','Feb','Mar'])\n",
    "s2=pd.Series([40,50,60], index=['Jan','Feb','Mar'])\n",
    "\n",
    "df6=pd.DataFrame([s1,s2],index=['First Week', 'Second week'])\n",
    "\n",
    "print(df6)"
   ]
  },
  {
   "cell_type": "code",
   "execution_count": 55,
   "id": "fe90dfd0-2c5f-42f1-b9bb-517da73995e8",
   "metadata": {},
   "outputs": [
    {
     "name": "stdout",
     "output_type": "stream",
     "text": [
      "------ Logged in Data ------\n",
      "      Mouse  Keyboard  Scanner\n",
      "Jan    150       180      200\n",
      "Feb    200       200      280\n",
      "Mar    300       190      330\n",
      "Apr    400       300      450\n"
     ]
    }
   ],
   "source": [
    "s3=pd.Series([150,180,200], index=['Mouse','Keyboard','Scanner'])\n",
    "s4=pd.Series([200,200,280], index=['Mouse','Keyboard','Scanner'])\n",
    "s5=pd.Series([300,190,330], index=['Mouse','Keyboard','Scanner'])\n",
    "s6=pd.Series([400, 300, 450], index=['Mouse','Keyboard','Scanner'])\n",
    "\n",
    "df7=pd.DataFrame([s3,s4,s5,s6], index=['Jan','Feb','Mar','Apr'])\n",
    "\n",
    "print(\"------ Logged in Data ------\\n\", df7)"
   ]
  },
  {
   "cell_type": "code",
   "execution_count": 152,
   "id": "e1805ea2-836a-44e5-899c-39521dd9857c",
   "metadata": {},
   "outputs": [
    {
     "name": "stdout",
     "output_type": "stream",
     "text": [
      "     Mouse  Keyboard  Scanner\n",
      "Jan    150       180      200\n",
      "Feb    200       200      280\n",
      "Mar    300       190      330\n",
      "Apr    400       300      450\n"
     ]
    }
   ],
   "source": [
    "data2={'Mouse':[150,200,300,400], 'Keyboard': [180,200,190,300], 'Scanner':[200,280,330,450]}\n",
    "df8=pd.DataFrame(data2, index=['Jan','Feb','Mar','Apr'])\n",
    "print(df8)\n",
    "\n"
   ]
  },
  {
   "cell_type": "code",
   "execution_count": 153,
   "id": "425723b5-569d-43f4-826c-d52c4e0a3baa",
   "metadata": {},
   "outputs": [
    {
     "name": "stdout",
     "output_type": "stream",
     "text": [
      "[[[[[ Full Data ]]]]]\n",
      "      Mouse  Keyboard  Scanner\n",
      "Jan    150       180      200\n",
      "Feb    200       200      280\n",
      "Mar    300       190      330\n",
      "Apr    400       300      450\n",
      "\n",
      "Extracted Data\n",
      "      Mouse  Keyboard\n",
      "Jan    150       180\n",
      "Feb    200       200\n",
      "Mar    300       190\n",
      "Apr    400       300\n",
      "\n",
      "March data by row\n",
      " Mouse       300\n",
      "Keyboard    190\n",
      "Scanner     330\n",
      "Name: Mar, dtype: int64\n",
      "\n",
      "Data by integer index row\n",
      " Mouse       150\n",
      "Keyboard    180\n",
      "Scanner     200\n",
      "Name: Jan, dtype: int64\n",
      "\n",
      "Data from Feb onwards select by row\n",
      "      Mouse  Keyboard  Scanner\n",
      "Feb    200       200      280\n",
      "Mar    300       190      330\n",
      "Apr    400       300      450\n",
      "\n",
      "Data from Mar onwards select by row\n",
      "      Mouse  Keyboard  Scanner\n",
      "Mar    300       190      330\n",
      "Apr    400       300      450\n",
      "\n",
      "Select Jan and Feb\n",
      "      Mouse  Keyboard  Scanner\n",
      "Jan    150       180      200\n",
      "Feb    200       200      280\n",
      "\n",
      "Select Mar and Apr\n",
      "      Mouse  Keyboard  Scanner\n",
      "Mar    300       190      330\n",
      "Apr    400       300      450\n",
      "\n",
      "Only data of Mouse column  \n",
      " Jan    150\n",
      "Feb    200\n",
      "Mar    300\n",
      "Apr    400\n",
      "Name: Mouse, dtype: int64\n",
      "\n",
      "Only data of Mouse column by index \n",
      " Jan    150\n",
      "Feb    200\n",
      "Mar    300\n",
      "Apr    400\n",
      "Name: Mouse, dtype: int64\n",
      "\n",
      "Mouse and Keyboard column\n",
      "      Mouse  Keyboard\n",
      "Jan    150       180\n",
      "Feb    200       200\n",
      "Mar    300       190\n",
      "Apr    400       300\n",
      "\n",
      "Mouse and Keyboard column by index \n",
      "      Mouse  Keyboard\n",
      "Jan    150       180\n",
      "Feb    200       200\n",
      "Mar    300       190\n",
      "Apr    400       300\n",
      "\n",
      "Row range from jan to mar\n",
      "      Mouse  Keyboard  Scanner\n",
      "Jan    150       180      200\n",
      "Feb    200       200      280\n",
      "Mar    300       190      330\n",
      "\n",
      "Row range from jan to mar by index\n",
      "      Mouse  Keyboard  Scanner\n",
      "Jan    150       180      200\n",
      "Feb    200       200      280\n",
      "\n",
      "Column range from Mouse to Scanner\n",
      "      Mouse  Keyboard  Scanner\n",
      "Jan    150       180      200\n",
      "Feb    200       200      280\n",
      "Mar    300       190      330\n",
      "Apr    400       300      450\n",
      "\n",
      "Column range from Mouse to Scanner by index\n",
      "      Mouse  Keyboard  Scanner\n",
      "Jan    150       180      200\n",
      "Feb    200       200      280\n",
      "Mar    300       190      330\n",
      "Apr    400       300      450\n",
      "\n",
      "Jan to Mar of Mouse and Scanner\n",
      "      Mouse  Keyboard  Scanner\n",
      "Jan    150       180      200\n",
      "Feb    200       200      280\n",
      "Mar    300       190      330\n",
      "\n",
      "Jan to Mar of Keyboard by index\n",
      "      Keyboard\n",
      "Jan       180\n",
      "Feb       200\n",
      "Mar       190\n"
     ]
    }
   ],
   "source": [
    "\n",
    "\n",
    "print(\"[[[[[ Full Data ]]]]]\\n\", df8)\n",
    "# Extract Data \n",
    "\n",
    "print(\"\\nExtracted Data\\n\", df8[['Mouse', 'Keyboard']])\n",
    "\n",
    "\n",
    "print(\"\\nMarch data by row\\n\", df8.loc['Mar'])\n",
    "\n",
    "print(\"\\nData by integer index row\\n\", df8.iloc[0])\n",
    "\n",
    "print(\"\\nData from Feb onwards select by row\\n\", df8.loc['Feb':])\n",
    "\n",
    "\n",
    "print(\"\\nData from Mar onwards select by row\\n\", df8.iloc[2:])\n",
    "\n",
    "\n",
    "## Select multiple rows\n",
    "print(\"\\nSelect Jan and Feb\\n\", df8.loc[['Jan','Feb']])\n",
    "print(\"\\nSelect Mar and Apr\\n\", df8.iloc[[2,3]])\n",
    "\n",
    "# Select Columns\n",
    "print(\"\\nOnly data of Mouse column  \\n\", df8.loc[:,'Mouse'])\n",
    "\n",
    "\n",
    "print(\"\\nOnly data of Mouse column by index \\n\", df8.iloc[:,0])\n",
    "\n",
    "# Select Multiple Columns\n",
    "\n",
    "print(\"\\nMouse and Keyboard column\\n\", df8.loc[:,['Mouse', 'Keyboard']])\n",
    "print(\"\\nMouse and Keyboard column by index \\n\", df8.iloc[:,[0,1]])\n",
    "\n",
    "### Row Range\n",
    "print(\"\\nRow range from jan to mar\\n\",df8.loc['Jan':'Mar'])\n",
    "print(\"\\nRow range from jan to mar by index\\n\",df8.iloc[0:2])\n",
    "\n",
    "### Column Range\n",
    "print(\"\\nColumn range from Mouse to Scanner\\n\",df8.loc[:,'Mouse':'Scanner'])\n",
    "print(\"\\nColumn range from Mouse to Scanner by index\\n\",df8.iloc[:,0:3])\n",
    "\n",
    "## Select row and column with range\n",
    "\n",
    "print(\"\\nJan to Mar of Mouse and Scanner\\n\", df8.loc['Jan':'Mar', 'Mouse':'Scanner'])\n",
    "print(\"\\nJan to Mar of Keyboard by index\\n\", df8.iloc[0:3, 1:2])\n",
    "\n",
    "\n"
   ]
  },
  {
   "cell_type": "code",
   "execution_count": 157,
   "id": "0fb9d366-abdc-4662-8ddd-7238351587e1",
   "metadata": {},
   "outputs": [
    {
     "name": "stdout",
     "output_type": "stream",
     "text": [
      "\n",
      "Printing new added column\n",
      " Jan    100\n",
      "Feb    200\n",
      "Mar    300\n",
      "Apr    400\n",
      "May    500\n",
      "Name: Printer, dtype: int64\n",
      "\n",
      "Printing new added row\n",
      " Mouse       50.0\n",
      "Keyboard    20.0\n",
      "Scanner     70.0\n",
      "Printer     80.0\n",
      "Name: May, dtype: float64\n",
      "\n",
      "Printing new added column\n",
      " Jan    100\n",
      "Feb    200\n",
      "Mar    300\n",
      "Apr    400\n",
      "May    500\n",
      "Name: Printer, dtype: int64\n",
      "\n",
      "Number of rows in the DataFrame df8 :  5\n",
      "\n",
      "Shape of DataFrame df8 : \n",
      " (5, 4)\n",
      "\n",
      "isnull df8\n",
      "      Mouse  Keyboard  Scanner  Printer\n",
      "Jan  False     False    False    False\n",
      "Feb  False     False    False    False\n",
      "Mar  False     False    False    False\n",
      "Apr  False     False    False    False\n",
      "May  False     False    False    False\n",
      "\n",
      "Now df8 is : \n",
      "      Mouse  Keyboard  Scanner  Printer\n",
      "Jan  150.0     180.0    200.0      100\n",
      "Feb  200.0     200.0    280.0      200\n",
      "Mar  300.0     190.0    330.0      300\n",
      "Apr  400.0     300.0    450.0      400\n",
      "May   50.0      20.0     70.0      500\n",
      "\n",
      "Modified df8 is : \n",
      "      Mouse  Keyboard  Scanner  Printer\n",
      "Jan  150.0     180.0    200.0      100\n",
      "Feb  200.0     200.0    280.0      200\n",
      "Mar  300.0     190.0    330.0      300\n",
      "Apr  400.0     300.0    450.0      400\n",
      "May   50.0     700.0     70.0      500\n",
      "\n",
      "Top 3 data by row : \n",
      "      Mouse  Keyboard  Scanner  Printer\n",
      "Jan  150.0     180.0    200.0      100\n",
      "Feb  200.0     200.0    280.0      200\n",
      "Mar  300.0     190.0    330.0      300\n",
      "\n",
      "Bottom 2 data by row : \n",
      "      Mouse  Keyboard  Scanner  Printer\n",
      "Apr  400.0     300.0    450.0      400\n",
      "May   50.0     700.0     70.0      500\n",
      "\n",
      "Transpose of data frame df8 : \n",
      "             Jan    Feb    Mar    Apr    May\n",
      "Mouse     150.0  200.0  300.0  400.0   50.0\n",
      "Keyboard  180.0  200.0  190.0  300.0  700.0\n",
      "Scanner   200.0  280.0  330.0  450.0   70.0\n",
      "Printer   100.0  200.0  300.0  400.0  500.0\n",
      "\n",
      " Deletd row May \n",
      "      Mouse  Keyboard  Scanner  Printer\n",
      "Jan  150.0     180.0    200.0      100\n",
      "Feb  200.0     200.0    280.0      200\n",
      "Mar  300.0     190.0    330.0      300\n",
      "Apr  400.0     300.0    450.0      400\n",
      "\n",
      " Deletd column Scanner \n",
      "      Mouse  Keyboard  Scanner  Printer\n",
      "Jan  150.0     180.0    200.0      100\n",
      "Feb  200.0     200.0    280.0      200\n",
      "Mar  300.0     190.0    330.0      300\n",
      "Apr  400.0     300.0    450.0      400\n",
      "May   50.0     700.0     70.0      500\n",
      "\n",
      "Renamed columns heading : \n",
      "      Mouses  Keyboards  Scanner  Printer\n",
      "Jan   150.0      180.0    200.0      100\n",
      "Feb   200.0      200.0    280.0      200\n",
      "Mar   300.0      190.0    330.0      300\n",
      "Apr   400.0      300.0    450.0      400\n",
      "May    50.0      700.0     70.0      500\n",
      "\n",
      " Renamed row Jan to January : \n",
      "          Mouse  Keyboard  Scanner  Printer\n",
      "January  150.0     180.0    200.0      100\n",
      "Feb      200.0     200.0    280.0      200\n",
      "Mar      300.0     190.0    330.0      300\n",
      "Apr      400.0     300.0    450.0      400\n",
      "May       50.0     700.0     70.0      500\n"
     ]
    }
   ],
   "source": [
    "# Adding Column\n",
    "\n",
    "df8['Printer'] = [100, 200, 300, 400]\n",
    "print(\"\\nPrinting new added column\\n\", df8.loc[:,'Printer'])\n",
    "\n",
    "df8.loc['May',:]=[50,20,70,80]\n",
    "print(\"\\nPrinting new added row\\n\", df8.loc['May'])\n",
    "\n",
    "# Added data bcz of new field which eliminate error\n",
    "df8['Printer'] = [100, 200, 300, 400, 500]\n",
    "print(\"\\nPrinting new added column\\n\", df8.loc[:,'Printer'])\n"
   ]
  },
  {
   "cell_type": "code",
   "execution_count": 169,
   "id": "f372d219-671b-452b-a5ee-05ee91d67a62",
   "metadata": {},
   "outputs": [
    {
     "name": "stdout",
     "output_type": "stream",
     "text": [
      "\n",
      "Number of rows in the DataFrame df8 :  5\n",
      "\n",
      "Shape of DataFrame df8 : \n",
      " (5, 4)\n",
      "\n",
      "isnull df8\n",
      "      Mouse  Keyboard  Scanner  Printer\n",
      "Jan  False     False    False    False\n",
      "Feb  False     False    False    False\n",
      "Mar  False     False    False    False\n",
      "Apr  False     False    False    False\n",
      "May  False     False    False    False\n",
      "\n",
      "Now df8 is : \n",
      "      Mouse  Keyboard  Scanner  Printer\n",
      "Jan  150.0     180.0    200.0      100\n",
      "Feb  200.0     200.0    280.0      200\n",
      "Mar  300.0     190.0    330.0      300\n",
      "Apr  400.0     300.0    450.0      400\n",
      "May   50.0     700.0     70.0      500\n",
      "\n",
      "Modified df8 is : \n",
      "      Mouse  Keyboard  Scanner  Printer\n",
      "Jan  150.0     180.0    200.0      100\n",
      "Feb  200.0     200.0    280.0      200\n",
      "Mar  300.0     190.0    330.0      300\n",
      "Apr  400.0     300.0    450.0      400\n",
      "May   50.0     700.0     70.0      500\n",
      "\n",
      "Top 3 data by row : \n",
      "      Mouse  Keyboard  Scanner  Printer\n",
      "Jan  150.0     180.0    200.0      100\n",
      "Feb  200.0     200.0    280.0      200\n",
      "Mar  300.0     190.0    330.0      300\n",
      "\n",
      "Bottom 2 data by row : \n",
      "      Mouse  Keyboard  Scanner  Printer\n",
      "Apr  400.0     300.0    450.0      400\n",
      "May   50.0     700.0     70.0      500\n",
      "\n",
      "Transpose of data frame df8 : \n",
      "             Jan    Feb    Mar    Apr    May\n",
      "Mouse     150.0  200.0  300.0  400.0   50.0\n",
      "Keyboard  180.0  200.0  190.0  300.0  700.0\n",
      "Scanner   200.0  280.0  330.0  450.0   70.0\n",
      "Printer   100.0  200.0  300.0  400.0  500.0\n",
      "\n",
      " Deletd row May \n",
      "      Mouse  Keyboard  Scanner  Printer\n",
      "Jan  150.0     180.0    200.0      100\n",
      "Feb  200.0     200.0    280.0      200\n",
      "Mar  300.0     190.0    330.0      300\n",
      "Apr  400.0     300.0    450.0      400\n",
      "\n",
      " Deletd column Scanner \n",
      "      Mouse  Keyboard  Scanner  Printer\n",
      "Jan  150.0     180.0    200.0      100\n",
      "Feb  200.0     200.0    280.0      200\n",
      "Mar  300.0     190.0    330.0      300\n",
      "Apr  400.0     300.0    450.0      400\n",
      "May   50.0     700.0     70.0      500\n",
      "\n",
      "Renamed columns heading : \n",
      "      Mouses  Keyboards  Scanner  Printer\n",
      "Jan   150.0      180.0    200.0      100\n",
      "Feb   200.0      200.0    280.0      200\n",
      "Mar   300.0      190.0    330.0      300\n",
      "Apr   400.0      300.0    450.0      400\n",
      "May    50.0      700.0     70.0      500\n",
      "\n",
      " Renamed row Jan to January : \n",
      "          Mouse  Keyboard  Scanner  Printer\n",
      "January  150.0     180.0    200.0      100\n",
      "Feb      200.0     200.0    280.0      200\n",
      "Mar      300.0     190.0    330.0      300\n",
      "Apr      400.0     300.0    450.0      400\n",
      "May       50.0     700.0     70.0      500\n",
      "\n",
      "Row and corresponding column value : \n",
      " Mouse       Apr\n",
      "Keyboard    May\n",
      "Scanner     Apr\n",
      "Printer     May\n",
      "dtype: object\n",
      "\n",
      "Row and corresponding column value : \n",
      " Jan     Scanner\n",
      "Feb     Scanner\n",
      "Mar     Scanner\n",
      "Apr     Scanner\n",
      "May    Keyboard\n",
      "dtype: object\n",
      "\n",
      "Sum in column = \n",
      " Mouse       1100.0\n",
      "Keyboard    1570.0\n",
      "Scanner     1330.0\n",
      "Printer     1500.0\n",
      "dtype: float64\n",
      "\n",
      "Sum in row = \n",
      " Jan     630.0\n",
      "Feb     880.0\n",
      "Mar    1120.0\n",
      "Apr    1550.0\n",
      "May    1320.0\n",
      "dtype: float64\n"
     ]
    }
   ],
   "source": [
    "# Functions\n",
    "\n",
    "print(\"\\nNumber of rows in the DataFrame df8 : \",len(df8))\n",
    "print(\"\\nShape of DataFrame df8 : \\n\",df8.shape)\n",
    "print(\"\\nisnull df8\\n\", df8.isnull())\n",
    "\n",
    "\n",
    "# Modify a value\n",
    "print(\"\\nNow df8 is : \\n\", df8)\n",
    "df8.loc['May', 'Keyboard'] = 700\n",
    "print(\"\\nModified df8 is : \\n\", df8)\n",
    "\n",
    "print(\"\\nTop 3 data by row : \\n\",df8.head(3))\n",
    "print(\"\\nBottom 2 data by row : \\n\",df8.tail(2))\n",
    "print(\"\\nTranspose of data frame df8 : \\n\", df8.T)\n",
    "\n",
    "# Delete a a row\n",
    "print(\"\\n Deletd row May \\n\", df8.drop('May')) # df8.drop(['Mar', 'Apr'])\n",
    "\n",
    "# Delete a column\n",
    "#del df8['Scanner']\n",
    "print(\"\\n Deletd column Scanner \\n\", df8)\n",
    "\n",
    "# Rename a column\n",
    "\n",
    "df9=df8.rename(columns={'Mouse': 'Mouses', 'Keyboard': 'Keyboards'})\n",
    "print(\"\\nRenamed columns heading : \\n\", df9)\n",
    "\n",
    "# Row rename\n",
    "\n",
    "df10 = df8.rename(index={'Jan': 'January'})\n",
    "print(\"\\n Renamed row Jan to January : \\n\", df10)\n",
    "\n",
    "\n",
    "print(\"\\nRow and corresponding column value : \\n\", df8.idxmax()) # column\n",
    "print(\"\\nRow and corresponding column value : \\n\", df8.idxmax(axis=1)) # row\n",
    "\n",
    "print(\"\\nSum in column = \\n\", df8.sum())\n",
    "print(\"\\nSum in row = \\n\", df8.sum(axis=1))"
   ]
  },
  {
   "cell_type": "code",
   "execution_count": 166,
   "id": "dfbbb652-f94d-4dba-a425-bf5d4d0b57a1",
   "metadata": {},
   "outputs": [
    {
     "name": "stdout",
     "output_type": "stream",
     "text": [
      "------ Logged in Data ------\n",
      "      Mouse  Keyboard  Scanner\n",
      "Jan    150       180      200\n",
      "Feb    200       200      280\n",
      "Mar    300       190      330\n",
      "Apr    400       300      450\n"
     ]
    }
   ],
   "source": [
    "s3=pd.Series([150,180,200], index=['Mouse','Keyboard','Scanner'])\n",
    "s4=pd.Series([200,200,280], index=['Mouse','Keyboard','Scanner'])\n",
    "s5=pd.Series([300,190,330], index=['Mouse','Keyboard','Scanner'])\n",
    "s6=pd.Series([400, 300, 450], index=['Mouse','Keyboard','Scanner'])\n",
    "\n",
    "df7=pd.DataFrame([s3,s4,s5,s6], index=['Jan','Feb','Mar','Apr'])\n",
    "\n",
    "print(\"------ Logged in Data ------\\n\", df7)"
   ]
  },
  {
   "cell_type": "code",
   "execution_count": 162,
   "id": "f89c7448-e68c-45fb-92d9-497ae27d211c",
   "metadata": {},
   "outputs": [
    {
     "name": "stdout",
     "output_type": "stream",
     "text": [
      "       Test1  Test2  Test3\n",
      "Bob       25     87     70\n",
      "Sally     72      9     26\n",
      "Arun      99     29     19\n",
      "John      12     52     56\n"
     ]
    }
   ],
   "source": [
    "import pandas as pd\n",
    "import numpy as np\n",
    "\n",
    "data = np.random.randint(0, 100, (4, 3))\n",
    "\n",
    "df11 = pd.DataFrame(data, index=['Bob', 'Sally', 'Arun', 'John'], columns=['Test1', 'Test2', 'Test3'])\n",
    "print(df11)\n",
    "\n",
    "\n"
   ]
  },
  {
   "cell_type": "code",
   "execution_count": 176,
   "id": "08fc46e4-aeda-4e3f-a60b-7de06c97f1ec",
   "metadata": {},
   "outputs": [
    {
     "name": "stdout",
     "output_type": "stream",
     "text": [
      "0    False\n",
      "1     True\n",
      "2     True\n",
      "dtype: bool\n",
      "0     62\n",
      "1     82\n",
      "2    102\n",
      "dtype: int64\n",
      "0    0\n",
      "1    0\n",
      "2    0\n",
      "dtype: int64\n",
      "0    1.0\n",
      "1    1.0\n",
      "2    1.0\n",
      "dtype: float64\n",
      "0     961\n",
      "1    1681\n",
      "2    2601\n",
      "dtype: int64\n"
     ]
    }
   ],
   "source": [
    "info=pd.Series([31,41,51])\n",
    "print(info>40)\n",
    "print(info.add(info))\n",
    "print(info.sub(info))\n",
    "print(info.div(info))\n",
    "print(info.mul(info))"
   ]
  },
  {
   "cell_type": "code",
   "execution_count": 182,
   "id": "93852c8f-7b41-4d9e-8abd-475ac79d19a7",
   "metadata": {},
   "outputs": [
    {
     "name": "stdout",
     "output_type": "stream",
     "text": [
      "        ball  pen  pencil  paper\n",
      "red        0    1       2      3\n",
      "blue       4    5       6      7\n",
      "yellow     8    9      10     11\n",
      "white     12   13      14     15\n",
      "\n",
      " ball      0\n",
      "pen       1\n",
      "pencil    2\n",
      "paper     3\n",
      "dtype: int64\n",
      "\n",
      "frame+ser         ball  pen  pencil  paper\n",
      "red        0    2       4      6\n",
      "blue       4    6       8     10\n",
      "yellow     8   10      12     14\n",
      "white     12   14      16     18\n",
      "\n",
      "frame-ser         ball  pen  pencil  paper\n",
      "red        0    0       0      0\n",
      "blue       4    4       4      4\n",
      "yellow     8    8       8      8\n",
      "white     12   12      12     12\n",
      "\n",
      "DataFrame sorted by index:\n",
      "         ball  pen  pencil  paper\n",
      "blue       4    5       6      7\n",
      "red        0    1       2      3\n",
      "white     12   13      14     15\n",
      "yellow     8    9      10     11\n",
      "\n",
      "DataFrame sorted by 'pen' column values:\n",
      "         ball  pen  pencil  paper\n",
      "red        0    1       2      3\n",
      "blue       4    5       6      7\n",
      "yellow     8    9      10     11\n",
      "white     12   13      14     15\n",
      "\n",
      "Series with NaN values removed:\n",
      " ball      0\n",
      "pen       1\n",
      "pencil    2\n",
      "paper     3\n",
      "dtype: int64\n",
      "\n",
      "Series with NaN values filled with 99:\n",
      " ball      0\n",
      "pen       1\n",
      "pencil    2\n",
      "paper     3\n",
      "dtype: int64\n"
     ]
    }
   ],
   "source": [
    "frame=pd.DataFrame(np.arange(16).reshape(4,4), index=['red','blue','yellow','white'],columns=['ball','pen','pencil','paper'])\n",
    "print(frame)\n",
    "\n",
    "ser=pd.Series([0,1,2,3], index=['ball','pen','pencil','paper'])\n",
    "print(\"\\n\",ser)\n",
    "\n",
    "print(\"\\nframe+ser\",frame+ser)\n",
    "\n",
    "print(\"\\nframe-ser\",frame-ser)\n",
    "\n",
    "\n",
    "sorted_frame_index = frame.sort_index()\n",
    "print(\"\\nDataFrame sorted by index:\\n\", sorted_frame_index)\n",
    "\n",
    "sorted_frame_values = frame.sort_values(by='pen')\n",
    "print(\"\\nDataFrame sorted by 'pen' column values:\\n\", sorted_frame_values)\n",
    "\n",
    "\n",
    "ser_dropna = ser.dropna()\n",
    "print(\"\\nSeries with NaN values removed:\\n\", ser_dropna)\n",
    "\n",
    "ser_fillna = ser.fillna(99)\n",
    "print(\"\\nSeries with NaN values filled with 99:\\n\", ser_fillna)"
   ]
  },
  {
   "cell_type": "code",
   "execution_count": null,
   "id": "b8d671f5-bf02-4756-8e6e-94a0b1dbebfa",
   "metadata": {},
   "outputs": [],
   "source": []
  }
 ],
 "metadata": {
  "kernelspec": {
   "display_name": "Python 3 (ipykernel)",
   "language": "python",
   "name": "python3"
  },
  "language_info": {
   "codemirror_mode": {
    "name": "ipython",
    "version": 3
   },
   "file_extension": ".py",
   "mimetype": "text/x-python",
   "name": "python",
   "nbconvert_exporter": "python",
   "pygments_lexer": "ipython3",
   "version": "3.9.7"
  }
 },
 "nbformat": 4,
 "nbformat_minor": 5
}
