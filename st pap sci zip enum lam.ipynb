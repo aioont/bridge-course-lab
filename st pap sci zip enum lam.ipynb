{
 "cells": [
  {
   "cell_type": "code",
   "execution_count": 1,
   "id": "5876a102",
   "metadata": {},
   "outputs": [
    {
     "name": "stdout",
     "output_type": "stream",
     "text": [
      "Sum =  15\n"
     ]
    }
   ],
   "source": [
    "def add(a,b,c):\n",
    "    return a+b+c\n",
    "print(\"Sum = \", add(4,5,6))"
   ]
  },
  {
   "cell_type": "code",
   "execution_count": 4,
   "id": "b86915b3",
   "metadata": {},
   "outputs": [
    {
     "name": "stdout",
     "output_type": "stream",
     "text": [
      "Anu   DCA\n"
     ]
    }
   ],
   "source": [
    "def add(name,dept):\n",
    "    print(name, \" \",dept)\n",
    "add(dept=\"DCA\", name=\"Anu\")"
   ]
  },
  {
   "cell_type": "code",
   "execution_count": 7,
   "id": "f915c4f3",
   "metadata": {},
   "outputs": [
    {
     "name": "stdout",
     "output_type": "stream",
     "text": [
      "6\n"
     ]
    }
   ],
   "source": [
    "def add(a,b,c=3):\n",
    "    s=a+b+c\n",
    "    print(s)\n",
    "add(1,2)"
   ]
  },
  {
   "cell_type": "code",
   "execution_count": 11,
   "id": "8ba9e816",
   "metadata": {},
   "outputs": [
    {
     "name": "stdout",
     "output_type": "stream",
     "text": [
      "55\n"
     ]
    }
   ],
   "source": [
    "def add(*num):\n",
    "    res=0\n",
    "    for i in num:\n",
    "        res=res+i\n",
    "    return res\n",
    "print(add(1,2,3,4,5,6,7,8,9,10))"
   ]
  },
  {
   "cell_type": "code",
   "execution_count": 28,
   "id": "1f815f80",
   "metadata": {},
   "outputs": [
    {
     "name": "stdout",
     "output_type": "stream",
     "text": [
      "('num', '5')  --------- \n",
      "('colors', 'red')  --------- \n",
      "('fruits', 'apple')  --------- \n"
     ]
    }
   ],
   "source": [
    "def fn(**a):\n",
    "    for i in a.items():\n",
    "        print(i, \" --------- \")\n",
    "fn(num=\"5\", colors=\"red\", fruits=\"apple\")"
   ]
  },
  {
   "cell_type": "code",
   "execution_count": 29,
   "id": "51e195b1",
   "metadata": {},
   "outputs": [
    {
     "name": "stdout",
     "output_type": "stream",
     "text": [
      "27\n"
     ]
    }
   ],
   "source": [
    "def cube(x):\n",
    "    print(x**3)\n",
    "cube(3)"
   ]
  },
  {
   "cell_type": "code",
   "execution_count": 31,
   "id": "c03d3e83",
   "metadata": {},
   "outputs": [
    {
     "name": "stdout",
     "output_type": "stream",
     "text": [
      "27\n"
     ]
    }
   ],
   "source": [
    "c=lambda x:x**3\n",
    "print(c(3))"
   ]
  },
  {
   "cell_type": "code",
   "execution_count": 33,
   "id": "a4ccdf9f",
   "metadata": {},
   "outputs": [
    {
     "name": "stdout",
     "output_type": "stream",
     "text": [
      "9\n"
     ]
    }
   ],
   "source": [
    "f=lambda x,y: x+y\n",
    "print(f(4,5))"
   ]
  },
  {
   "cell_type": "code",
   "execution_count": 85,
   "id": "556c296d",
   "metadata": {},
   "outputs": [
    {
     "name": "stdout",
     "output_type": "stream",
     "text": [
      "[1, 8, 27, 64, 125, 216, 343, 512, 729, 1000]\n"
     ]
    }
   ],
   "source": [
    "c=[]\n",
    "l=[1,2,3,4,5,6,7,8,9,10]\n",
    "for i in l:\n",
    "    cube=lambda x:x**3\n",
    "    c.append(cube(i))\n",
    "print(c)\n",
    "        "
   ]
  },
  {
   "cell_type": "code",
   "execution_count": 45,
   "id": "8758db45",
   "metadata": {},
   "outputs": [
    {
     "name": "stdout",
     "output_type": "stream",
     "text": [
      "Result =  [1, 8, 27, 64, 125]\n",
      "Result =  (1, 8, 27, 64, 125)\n",
      "Result =  [1, 8, 27, 64, 125]\n"
     ]
    }
   ],
   "source": [
    "abcd=[1,2,3,4,5]\n",
    "def find_cube(a):\n",
    "    return a*a*a\n",
    "result_list=list(map(find_cube, abcd))\n",
    "result_tup=tuple(map(find_cube, abcd))\n",
    "result_lambda=list(map(lambda n:n*n*n, abcd))\n",
    "\n",
    "print(\"Result list   = \", result_list)\n",
    "print(\"Result tup    = \", result_tup)\n",
    "print(\"Result lambda = \", result_lambda)"
   ]
  },
  {
   "cell_type": "code",
   "execution_count": 59,
   "id": "d92ea4e6",
   "metadata": {},
   "outputs": [
    {
     "name": "stdout",
     "output_type": "stream",
     "text": [
      "Even list  [10, 100, 1000]\n"
     ]
    }
   ],
   "source": [
    "def even(l):\n",
    "    return l%2==0\n",
    "        \n",
    "l=[1,10,100,1000,1001]\n",
    "e=list(filter(even,l))\n",
    "\n",
    "print(\"Even list \", e)\n",
    "\n"
   ]
  },
  {
   "cell_type": "code",
   "execution_count": 61,
   "id": "6afae165",
   "metadata": {},
   "outputs": [
    {
     "data": {
      "text/plain": [
       "[('John', 101), ('David', 102), ('Peter', 103), ('Lisa', 104)]"
      ]
     },
     "execution_count": 61,
     "metadata": {},
     "output_type": "execute_result"
    }
   ],
   "source": [
    "emp_name=[\"John\", \"David\", \"Peter\", \"Lisa\"]\n",
    "emp_id=[101,102,103,104]\n",
    "list(zip(emp_name,emp_id))"
   ]
  },
  {
   "cell_type": "code",
   "execution_count": 66,
   "id": "04ab8e99",
   "metadata": {},
   "outputs": [
    {
     "name": "stdout",
     "output_type": "stream",
     "text": [
      "(0, 10)\n",
      "(1, 11)\n",
      "(2, 12)\n",
      "(3, 13)\n",
      "(4, 14)\n",
      "(5, 15)\n",
      "(6, 16)\n",
      "(7, 17)\n",
      "(8, 18)\n",
      "(9, 20)\n"
     ]
    }
   ],
   "source": [
    "n=[10,11,12,13,14,15,16,17,18,20]\n",
    "n.index(15)\n",
    "for i in enumerate(n):\n",
    "    print(i)"
   ]
  },
  {
   "cell_type": "code",
   "execution_count": 72,
   "id": "5738ef99",
   "metadata": {},
   "outputs": [
    {
     "name": "stdout",
     "output_type": "stream",
     "text": [
      "[2, 4, 6, 8, 10]\n"
     ]
    }
   ],
   "source": [
    "n=[1,2,3,4,5]\n",
    "def add1(n):\n",
    "    return n+n \n",
    "res=list(map(lambda a:a+a,n))\n",
    "print(res)"
   ]
  },
  {
   "cell_type": "code",
   "execution_count": 79,
   "id": "1020b83b",
   "metadata": {},
   "outputs": [
    {
     "name": "stdout",
     "output_type": "stream",
     "text": [
      "[3, 7, 11, 15, 19, 23]\n"
     ]
    }
   ],
   "source": [
    "n1=[1,3,5,7,9,11]\n",
    "n2=[2,4,6,8,10,12]\n",
    "res=list(map(lambda a,b:a+b,n1,n2))\n",
    "print(res)"
   ]
  },
  {
   "cell_type": "code",
   "execution_count": 82,
   "id": "d9a83e89",
   "metadata": {},
   "outputs": [
    {
     "name": "stdout",
     "output_type": "stream",
     "text": [
      "Enter elemets of the first list : 1 2 3 4 5 6 7 8 9 10\n",
      "[1, 2, 3, 4, 5, 6, 7, 8, 9, 10]\n"
     ]
    }
   ],
   "source": [
    "nums=input(\"Enter elemets of the first list : \")\n",
    "n=list(map(int, nums.split()))\n",
    "\n",
    "\n",
    "print(n)"
   ]
  },
  {
   "cell_type": "code",
   "execution_count": 109,
   "id": "31fd7f29",
   "metadata": {},
   "outputs": [
    {
     "name": "stdout",
     "output_type": "stream",
     "text": [
      "========== Welcome to Stone! Paper! Scissor! ==========\n",
      "Enter number of rounds : 5\n",
      "      1. Stone 2. Paper 3. Scissor\n",
      "Enter options value in integer : 1\n",
      "Tie !!! No points\n",
      "Enter options value in integer : 2\n",
      "You won!!!\n",
      "Enter options value in integer : 3\n",
      "You won!!!\n",
      "Enter options value in integer : 3\n",
      "You won!!!\n",
      "Enter options value in integer : 2\n",
      "Tie !!! No points\n",
      "Computer points: 0, User points: 3\n",
      "You win from 5, with points 3 . Congragulations !!!!!\n"
     ]
    }
   ],
   "source": [
    "import random\n",
    "options=[\"Stone\", \"Paper\",  \"Scissor\"]\n",
    "values=[1,2,3]\n",
    "computer_point=0\n",
    "user_point=0\n",
    "#list(zip(options, values))\n",
    "print(\"=\"*10, \"Welcome to Stone! Paper! Scissor!\", \"=\"*10)\n",
    "rounds=int(input(\"Enter number of rounds : \"))\n",
    "print(\" \"*5, \"1. Stone 2. Paper 3. Scissor\")\n",
    "\n",
    "for i in range(rounds):\n",
    "    selected=int(input(\"Enter options value in integer : \"))\n",
    "    if selected==1 or selected==2 or selected==3:\n",
    "        if random.choice(options)==\"Stone\" and selected==1:\n",
    "            print(\"Tie !!! No points\")\n",
    "        elif random.choice(options)==\"Paper\" and selected==2:\n",
    "            print(\"Tie !!! No points\")\n",
    "        elif random.choice(options)==\"Scissor\" and selected==3:\n",
    "            print(\"Tie !!! No points\")\n",
    "        elif (random.choice(options)==\"Stone\" and selected==3) or (random.choice(options)==\"Scissor\" and selected==2) or (random.choice(options)==\"Paper\" and selected==1):\n",
    "            print(\"Computer won!!!\")\n",
    "            computer_point=computer_point+1\n",
    "        else:\n",
    "            print(\"You won!!!\")\n",
    "            user_point=user_point+1\n",
    "    else:\n",
    "        print(\"Enter valid option !!!\")\n",
    "\n",
    "    \n",
    "print(f\"Computer points: {computer_point}, User points: {user_point}\")\n",
    "if computer_point<user_point:\n",
    "    print(f\"You win from {rounds} rounds, with points {user_point} . Congragulations !!!!!\")\n",
    "elif computer_point==user_point:\n",
    "    print(f\"Both computer and user scored {computer_point}. Match is tie. Good work !!!\")\n",
    "else:\n",
    "    print(f\"Computer win from {rounds} rounds , with points {computer_point} . Better luck next time !!!!!\")\n",
    "\n"
   ]
  },
  {
   "cell_type": "code",
   "execution_count": null,
   "id": "4fe8222f",
   "metadata": {},
   "outputs": [],
   "source": []
  },
  {
   "cell_type": "code",
   "execution_count": null,
   "id": "1d0fd7f6",
   "metadata": {},
   "outputs": [],
   "source": []
  }
 ],
 "metadata": {
  "kernelspec": {
   "display_name": "Python 3 (ipykernel)",
   "language": "python",
   "name": "python3"
  },
  "language_info": {
   "codemirror_mode": {
    "name": "ipython",
    "version": 3
   },
   "file_extension": ".py",
   "mimetype": "text/x-python",
   "name": "python",
   "nbconvert_exporter": "python",
   "pygments_lexer": "ipython3",
   "version": "3.10.12"
  }
 },
 "nbformat": 4,
 "nbformat_minor": 5
}
