{
 "cells": [
  {
   "cell_type": "code",
   "execution_count": 2,
   "id": "59857a06",
   "metadata": {},
   "outputs": [
    {
     "name": "stdout",
     "output_type": "stream",
     "text": [
      "Enter a number : 21\n",
      "21  is div by 7\n"
     ]
    }
   ],
   "source": [
    "# div by 7 or not\n",
    "num=int(input(\"Enter a number : \"))\n",
    "if num%7==0:\n",
    "    print(num, \" is div by 7\")\n",
    "else:\n",
    "    print(num, \" is not div by 7\")"
   ]
  },
  {
   "cell_type": "code",
   "execution_count": 12,
   "id": "e2603263",
   "metadata": {},
   "outputs": [
    {
     "name": "stdout",
     "output_type": "stream",
     "text": [
      "Enter number of rows : 5\n",
      "*  \n",
      "*  *  \n",
      "*  *  *  \n",
      "*  *  *  *  \n",
      "*  *  *  *  *  \n",
      "\n",
      "*\n",
      "**\n",
      "***\n"
     ]
    }
   ],
   "source": [
    "# star\n",
    "n=int(input(\"Enter number of rows : \"))\n",
    "for i in range(n):\n",
    "    for j in range(i+1):\n",
    "        print(\"* \", end=\" \")\n",
    "    print()\n",
    "    \n",
    "for i in range(4):\n",
    "    print(\"*\"*i)"
   ]
  },
  {
   "cell_type": "code",
   "execution_count": 18,
   "id": "5930783a",
   "metadata": {},
   "outputs": [
    {
     "name": "stdout",
     "output_type": "stream",
     "text": [
      "Enter number of rows : 5\n",
      "          * \n",
      "        * * \n",
      "      * * * \n",
      "    * * * * \n",
      "  * * * * * \n",
      "      \n",
      "     *\n",
      "    **\n",
      "   ***\n"
     ]
    }
   ],
   "source": [
    "n=int(input(\"Enter number of rows : \"))\n",
    "for i in range(n):\n",
    "    for k in range(n-i):\n",
    "        print(\" \",end=\" \")\n",
    "    for j in range(i+1):\n",
    "        print(\"*\", end=\" \")\n",
    "    print()\n",
    "\n",
    "for i in range(4):\n",
    "    print(\" \"*(n-i),\"*\"*i)"
   ]
  },
  {
   "cell_type": "code",
   "execution_count": 21,
   "id": "fff8268f",
   "metadata": {},
   "outputs": [
    {
     "name": "stdout",
     "output_type": "stream",
     "text": [
      "Enter number of rows : 5\n",
      "     * \n",
      "    * * \n",
      "   * * * \n",
      "  * * * * \n",
      " * * * * * \n",
      "      \n",
      "     * \n",
      "    * * \n",
      "   * * * \n"
     ]
    }
   ],
   "source": [
    "n=int(input(\"Enter number of rows : \"))\n",
    "for i in range(n):\n",
    "    for k in range(n-i):\n",
    "        print(\"\",end=\" \")\n",
    "    for j in range(i+1):\n",
    "        print(\"*\", end=\" \")\n",
    "    print()\n",
    "    \n",
    "    \n",
    "for i in range(4):\n",
    "    print(\" \"*(n-i),\"* \"*i)"
   ]
  },
  {
   "cell_type": "code",
   "execution_count": 24,
   "id": "0539da47",
   "metadata": {},
   "outputs": [
    {
     "name": "stdout",
     "output_type": "stream",
     "text": [
      "Enter number of rows : 6\n",
      "1 \n",
      "1 2 \n",
      "1 2 3 \n",
      "1 2 3 4 \n",
      "1 2 3 4 5 \n",
      "1 2 3 4 5 6 \n"
     ]
    }
   ],
   "source": [
    "n=int(input(\"Enter number of rows : \"))\n",
    "for i in range(n):\n",
    "    for j in range(i+1):\n",
    "        print(j+1, end=\" \")\n",
    "    print()"
   ]
  },
  {
   "cell_type": "code",
   "execution_count": null,
   "id": "400a034f",
   "metadata": {},
   "outputs": [],
   "source": []
  },
  {
   "cell_type": "code",
   "execution_count": 69,
   "id": "5d456fb3",
   "metadata": {},
   "outputs": [
    {
     "name": "stdout",
     "output_type": "stream",
     "text": [
      "\n",
      "1 \n",
      "2 3 \n",
      "4 5 6 \n",
      "7 8 9 10 \n",
      "11 12 13 14 15 \n"
     ]
    }
   ],
   "source": [
    "n=6\n",
    "m=0\n",
    "for i in range(0,n):\n",
    "    for j in range(1,i+1):\n",
    "        n=m+1\n",
    "        m=m+1\n",
    "        print(n, end=\" \")\n",
    "    print()\n",
    "\n",
    "   \n"
   ]
  },
  {
   "cell_type": "code",
   "execution_count": 82,
   "id": "7c783ae9",
   "metadata": {},
   "outputs": [
    {
     "name": "stdout",
     "output_type": "stream",
     "text": [
      "Enter number of dictionary elements :10\n",
      "Enter a key : 2\n",
      "Enter value : 42\n",
      "Enter a key : 54\n",
      "Enter value : 34\n",
      "Enter a key : 343\n",
      "Enter value : 5643\n",
      "Enter a key : 64\n",
      "Enter value : 76\n",
      "Enter a key : 6\n",
      "Enter value : 101\n",
      "Enter a key : 34\n",
      "Enter value : 4343\n",
      "Enter a key : 5\n",
      "Enter value : 24\n",
      "Enter a key : 42\n",
      "Enter value : 5243\n",
      "Enter a key : 1010\n",
      "Enter value : 443\n",
      "Enter a key : 35\n",
      "Enter value : 3\n",
      "Dictionary elements:\n",
      "2: 42\n",
      "54: 34\n",
      "343: 5643\n",
      "64: 76\n",
      "6: 101\n",
      "34: 4343\n",
      "5: 24\n",
      "42: 5243\n",
      "1010: 443\n",
      "35: 3\n",
      "Even values:\n",
      "42\n",
      "34\n",
      "76\n",
      "24\n"
     ]
    }
   ],
   "source": [
    "n=int(input(\"Enter number of dictionary elements :\"))\n",
    "dict1={}\n",
    "for i in range(n):\n",
    "    key=input(\"Enter a key : \")\n",
    "    val=int(input(\"Enter value : \"))\n",
    "    dict1[key]=val\n",
    "\n",
    "print(\"Dictionary elements:\")\n",
    "for key, value in dict1.items():\n",
    "    print(f\"{key}: {value}\")\n",
    "\n",
    "print(\"Even values:\")\n",
    "for i in dict1:\n",
    "    if dict1[i]%2==0:\n",
    "        print(dict1[i])"
   ]
  },
  {
   "cell_type": "code",
   "execution_count": 76,
   "id": "7b75b61c",
   "metadata": {},
   "outputs": [
    {
     "name": "stdout",
     "output_type": "stream",
     "text": [
      "                    1 \n",
      "                   2 3 \n",
      "                  4 5 6 \n",
      "                 7 8 9 10 \n",
      "                11 12 13 14 15 \n",
      "               16 17 18 19 20 21 \n",
      "              22 23 24 25 26 27 28 \n",
      "             29 30 31 32 33 34 35 36 \n",
      "            37 38 39 40 41 42 43 44 45 \n",
      "           46 47 48 49 50 51 52 53 54 55 \n",
      "          56 57 58 59 60 61 62 63 64 65 66 \n",
      "         67 68 69 70 71 72 73 74 75 76 77 78 \n",
      "        79 80 81 82 83 84 85 86 87 88 89 90 91 \n",
      "       92 93 94 95 96 97 98 99 100 101 102 103 104 105 \n",
      "      106 107 108 109 110 111 112 113 114 115 116 117 118 119 120 \n",
      "     121 122 123 124 125 126 127 128 129 130 131 132 133 134 135 136 \n",
      "    137 138 139 140 141 142 143 144 145 146 147 148 149 150 151 152 153 \n",
      "   154 155 156 157 158 159 160 161 162 163 164 165 166 167 168 169 170 171 \n",
      "  172 173 174 175 176 177 178 179 180 181 182 183 184 185 186 187 188 189 190 \n",
      " 191 192 193 194 195 196 197 198 199 200 201 202 203 204 205 206 207 208 209 210 \n"
     ]
    }
   ],
   "source": [
    "# number pyr not exact pyr\n",
    "n=20\n",
    "t=1\n",
    "for i in range(n):\n",
    "    for k in range(n-i):\n",
    "        print(\" \", end=\"\")\n",
    "    for j in range(i+1):\n",
    "        print(t, end=\" \")\n",
    "        t=t+1\n",
    "    print()\n",
    "        "
   ]
  },
  {
   "cell_type": "code",
   "execution_count": 84,
   "id": "a4940f6b",
   "metadata": {},
   "outputs": [
    {
     "name": "stdout",
     "output_type": "stream",
     "text": [
      "Enter number of strings : 3\n",
      "Enter strings : few\n",
      "Enter strings : fwefrw\n",
      "Enter strings : wtewtw\n",
      "few\n",
      "fwe\n",
      "wte\n"
     ]
    }
   ],
   "source": [
    "i=0\n",
    "str1=[]\n",
    "n=int(input(\"Enter number of strings : \"))\n",
    "for i in range(n):\n",
    "    ele=input(\"Enter strings : \")\n",
    "    str1.append(ele)\n",
    "    \n",
    "for i in str1:\n",
    "    print(i[:3])"
   ]
  },
  {
   "cell_type": "code",
   "execution_count": null,
   "id": "1cef6eab",
   "metadata": {},
   "outputs": [],
   "source": []
  }
 ],
 "metadata": {
  "kernelspec": {
   "display_name": "Python 3 (ipykernel)",
   "language": "python",
   "name": "python3"
  },
  "language_info": {
   "codemirror_mode": {
    "name": "ipython",
    "version": 3
   },
   "file_extension": ".py",
   "mimetype": "text/x-python",
   "name": "python",
   "nbconvert_exporter": "python",
   "pygments_lexer": "ipython3",
   "version": "3.10.12"
  }
 },
 "nbformat": 4,
 "nbformat_minor": 5
}
