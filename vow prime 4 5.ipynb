{
 "cells": [
  {
   "cell_type": "code",
   "execution_count": null,
   "id": "507a09d9",
   "metadata": {},
   "outputs": [],
   "source": [
    "import random\n",
    "mylist=[100,200,300,400,500]\n",
    "print(random.random())\n",
    "print(random.uniform(100000,999999))\n",
    "print(random.choice(mylist))\n",
    "random.shuffle(mylist)\n",
    "print(mylist)"
   ]
  },
  {
   "cell_type": "code",
   "execution_count": 18,
   "id": "1ad0a968",
   "metadata": {},
   "outputs": [
    {
     "name": "stdout",
     "output_type": "stream",
     "text": [
      "Enter number of rows : 5\n",
      "*  \n",
      "*  *  \n",
      "*  *  *  \n",
      "*  *  *  *  \n",
      "*  *  *  *  *  \n"
     ]
    }
   ],
   "source": [
    "n=int(input(\"Enter number of rows : \"))\n",
    "for i in range(0,n):\n",
    "    for j in range(0,i+1):\n",
    "        print(\"* \", end=\" \")\n",
    "    print()"
   ]
  },
  {
   "cell_type": "code",
   "execution_count": 28,
   "id": "cc59a428",
   "metadata": {},
   "outputs": [
    {
     "name": "stdout",
     "output_type": "stream",
     "text": [
      "Enter number of dictionary elemnts : 5\n",
      "Enter key of dictionary element : 1001\n",
      "Enter value of dictionary element : 1\n",
      "Enter key of dictionary element : 1002\n",
      "Enter value of dictionary element : 2\n",
      "Enter key of dictionary element : 1003\n",
      "Enter value of dictionary element : 3\n",
      "Enter key of dictionary element : 1004\n",
      "Enter value of dictionary element : 4\n",
      "Enter key of dictionary element : 1005\n",
      "Enter value of dictionary element : 5\n",
      "Dictionary values :  {1001: 1, 1002: 2, 1003: 3, 1004: 4, 1005: 5}\n",
      "2 4 "
     ]
    }
   ],
   "source": [
    "n=int(input(\"Enter number of dictionary elemnts : \"))\n",
    "dict1={}\n",
    "\n",
    "for i in range(0,n):\n",
    "    key=int(input(\"Enter key of dictionary element : \"))\n",
    "    val=int(input(\"Enter value of dictionary element : \"))\n",
    "    dict1.update({key:val})\n",
    "print(\"Dictionary values : \", dict1)\n",
    "\n",
    "for i in dict1:\n",
    "    if dict1[i]%2==0:\n",
    "        print(dict1[i], end=\" \")"
   ]
  },
  {
   "cell_type": "code",
   "execution_count": 32,
   "id": "3bc974e0",
   "metadata": {},
   "outputs": [
    {
     "name": "stdout",
     "output_type": "stream",
     "text": [
      "Enter number of strings : 3\n",
      "Enter string : dqwd\n",
      "Enter string : rwer3wr23\n",
      "Enter string : 1\n",
      "['dqwd', 'rwer3wr23', '1']\n",
      "dqw\n",
      "rwe\n",
      "1\n"
     ]
    }
   ],
   "source": [
    "i=0\n",
    "str1=[]\n",
    "n=int(input(\"Enter number of strings : \"))\n",
    "for i in range(0,n):\n",
    "    ele=input(\"Enter string : \")\n",
    "    str1.append(ele)\n",
    "    \n",
    "for i in  str1:\n",
    "    print(i[:3])\n",
    "    "
   ]
  },
  {
   "cell_type": "code",
   "execution_count": 38,
   "id": "c88ef9af",
   "metadata": {},
   "outputs": [
    {
     "name": "stdout",
     "output_type": "stream",
     "text": [
      "Enter number of students : \n"
     ]
    },
    {
     "ename": "ValueError",
     "evalue": "invalid literal for int() with base 10: ''",
     "output_type": "error",
     "traceback": [
      "\u001b[0;31m---------------------------------------------------------------------------\u001b[0m",
      "\u001b[0;31mValueError\u001b[0m                                Traceback (most recent call last)",
      "\u001b[0;32m/tmp/ipykernel_5352/1530193615.py\u001b[0m in \u001b[0;36m<module>\u001b[0;34m\u001b[0m\n\u001b[1;32m      1\u001b[0m \u001b[0mstudents\u001b[0m\u001b[0;34m=\u001b[0m\u001b[0;34m[\u001b[0m\u001b[0;34m]\u001b[0m\u001b[0;34m\u001b[0m\u001b[0;34m\u001b[0m\u001b[0m\n\u001b[1;32m      2\u001b[0m \u001b[0mletters\u001b[0m\u001b[0;34m=\u001b[0m\u001b[0;34m[\u001b[0m\u001b[0;34m'A'\u001b[0m\u001b[0;34m,\u001b[0m\u001b[0;34m'B'\u001b[0m\u001b[0;34m,\u001b[0m\u001b[0;34m'C'\u001b[0m\u001b[0;34m,\u001b[0m\u001b[0;34m'D'\u001b[0m\u001b[0;34m,\u001b[0m\u001b[0;34m'E'\u001b[0m\u001b[0;34m,\u001b[0m\u001b[0;34m'F'\u001b[0m\u001b[0;34m,\u001b[0m\u001b[0;34m'G'\u001b[0m\u001b[0;34m,\u001b[0m\u001b[0;34m'H'\u001b[0m\u001b[0;34m,\u001b[0m\u001b[0;34m'I'\u001b[0m\u001b[0;34m,\u001b[0m\u001b[0;34m'J'\u001b[0m\u001b[0;34m,\u001b[0m\u001b[0;34m'K'\u001b[0m\u001b[0;34m,\u001b[0m\u001b[0;34m'L'\u001b[0m\u001b[0;34m,\u001b[0m\u001b[0;34m'M'\u001b[0m\u001b[0;34m]\u001b[0m\u001b[0;34m\u001b[0m\u001b[0;34m\u001b[0m\u001b[0m\n\u001b[0;32m----> 3\u001b[0;31m \u001b[0mn\u001b[0m\u001b[0;34m=\u001b[0m\u001b[0mint\u001b[0m\u001b[0;34m(\u001b[0m\u001b[0minput\u001b[0m\u001b[0;34m(\u001b[0m\u001b[0;34m\"Enter number of students : \"\u001b[0m\u001b[0;34m)\u001b[0m\u001b[0;34m)\u001b[0m\u001b[0;34m\u001b[0m\u001b[0;34m\u001b[0m\u001b[0m\n\u001b[0m\u001b[1;32m      4\u001b[0m \u001b[0;32mfor\u001b[0m \u001b[0mi\u001b[0m \u001b[0;32min\u001b[0m \u001b[0mrange\u001b[0m\u001b[0;34m(\u001b[0m\u001b[0;36m0\u001b[0m\u001b[0;34m,\u001b[0m\u001b[0mn\u001b[0m\u001b[0;34m)\u001b[0m\u001b[0;34m:\u001b[0m\u001b[0;34m\u001b[0m\u001b[0;34m\u001b[0m\u001b[0m\n\u001b[1;32m      5\u001b[0m     \u001b[0mname\u001b[0m\u001b[0;34m=\u001b[0m\u001b[0minput\u001b[0m\u001b[0;34m(\u001b[0m\u001b[0;34m\"Enter name of student : \"\u001b[0m\u001b[0;34m)\u001b[0m\u001b[0;34m\u001b[0m\u001b[0;34m\u001b[0m\u001b[0m\n",
      "\u001b[0;31mValueError\u001b[0m: invalid literal for int() with base 10: ''"
     ]
    }
   ],
   "source": [
    "students=[]\n",
    "letters=['A','B','C','D','E','F','G','H','I','J','K','L','M']\n",
    "n=int(input(\"Enter number of students : \"))\n",
    "for i in range(0,n):\n",
    "    name=input(\"Enter name of student : \")\n",
    "    students.append(name)\n",
    "    \n",
    "print(students)\n",
    "\n",
    "for i in students:\n",
    "    if i[0].upper() in letters:\n",
    "        print(i)"
   ]
  },
  {
   "cell_type": "code",
   "execution_count": 50,
   "id": "8de1c1c8",
   "metadata": {},
   "outputs": [
    {
     "name": "stdout",
     "output_type": "stream",
     "text": [
      "Enter a string : Hi How are you\n",
      "i  :  2\n",
      "o  :  5\n",
      "a  :  8\n",
      "e  :  10\n",
      "o  :  5\n",
      "u  :  14\n"
     ]
    }
   ],
   "source": [
    "def vo  wels(str1):\n",
    "    vowel_letters=['A','E','I','O','U','a','e','i','o','u']\n",
    "    for i in str1:\n",
    "        if i in vowel_letters:\n",
    "            print(i, \" : \", str1.index(i)+1)\n",
    "            \n",
    "str1=input(\"Enter a string : \")\n",
    "vowels(str1)\n",
    "    "
   ]
  },
  {
   "cell_type": "code",
   "execution_count": null,
   "id": "04ca6430",
   "metadata": {},
   "outputs": [],
   "source": []
  },
  {
   "cell_type": "code",
   "execution_count": null,
   "id": "c6195aee",
   "metadata": {},
   "outputs": [],
   "source": []
  }
 ],
 "metadata": {
  "kernelspec": {
   "display_name": "Python 3 (ipykernel)",
   "language": "python",
   "name": "python3"
  },
  "language_info": {
   "codemirror_mode": {
    "name": "ipython",
    "version": 3
   },
   "file_extension": ".py",
   "mimetype": "text/x-python",
   "name": "python",
   "nbconvert_exporter": "python",
   "pygments_lexer": "ipython3",
   "version": "3.10.12"
  }
 },
 "nbformat": 4,
 "nbformat_minor": 5
}
